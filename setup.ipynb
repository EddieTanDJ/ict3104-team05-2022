{
 "cells": [
  {
   "cell_type": "markdown",
   "metadata": {},
   "source": [
    "# Setup\n",
    "**Ensure you had Python 3.8 and anaconda installed in the PC.** \n",
    "\n",
    "R1(Story): As a user, I want to locally interact with the notebook on a local linux, mac or windows environment that has python 3.x, Jupyter and other necessary dependencies installed so that I can interact the notebook locally."
   ]
  },
  {
   "cell_type": "code",
   "execution_count": 2,
   "metadata": {},
   "outputs": [
    {
     "name": "stdout",
     "output_type": "stream",
     "text": [
      "conda 4.12.0\n"
     ]
    }
   ],
   "source": [
    "!conda --version"
   ]
  },
  {
   "cell_type": "code",
   "execution_count": null,
   "metadata": {},
   "outputs": [],
   "source": [
    "# Skip this if you already have the environment name ict3104\n",
    "!conda create --name ict3104 python=3.8 -y"
   ]
  },
  {
   "cell_type": "markdown",
   "metadata": {},
   "source": [
    "Run the following in the command prompt:\n",
    "1. ```conda activate ict3104```\n",
    "2. ```conda install jupyter```\n",
    "3. After that close the notebook and rerun the notebook again by using this command: `jupyter notebook`"
   ]
  },
  {
   "cell_type": "code",
   "execution_count": 1,
   "metadata": {},
   "outputs": [
    {
     "name": "stdout",
     "output_type": "stream",
     "text": [
      "\n",
      "     active environment : ict3104\n",
      "    active env location : C:\\Users\\Sisters\\anaconda3\\envs\\ict3104\n",
      "            shell level : 2\n",
      "       user config file : C:\\Users\\Sisters\\.condarc\n",
      " populated config files : \n",
      "          conda version : 4.12.0\n",
      "    conda-build version : 3.21.8\n",
      "         python version : 3.9.12.final.0\n",
      "       virtual packages : __cuda=11.6=0\n",
      "                          __win=0=0\n",
      "                          __archspec=1=x86_64\n",
      "       base environment : C:\\Users\\Sisters\\anaconda3  (writable)\n",
      "      conda av data dir : C:\\Users\\Sisters\\anaconda3\\etc\\conda\n",
      "  conda av metadata url : None\n",
      "           channel URLs : https://repo.anaconda.com/pkgs/main/win-64\n",
      "                          https://repo.anaconda.com/pkgs/main/noarch\n",
      "                          https://repo.anaconda.com/pkgs/r/win-64\n",
      "                          https://repo.anaconda.com/pkgs/r/noarch\n",
      "                          https://repo.anaconda.com/pkgs/msys2/win-64\n",
      "                          https://repo.anaconda.com/pkgs/msys2/noarch\n",
      "          package cache : C:\\Users\\Sisters\\anaconda3\\pkgs\n",
      "                          C:\\Users\\Sisters\\.conda\\pkgs\n",
      "                          C:\\Users\\Sisters\\AppData\\Local\\conda\\conda\\pkgs\n",
      "       envs directories : C:\\Users\\Sisters\\anaconda3\\envs\n",
      "                          C:\\Users\\Sisters\\.conda\\envs\n",
      "                          C:\\Users\\Sisters\\AppData\\Local\\conda\\conda\\envs\n",
      "               platform : win-64\n",
      "             user-agent : conda/4.12.0 requests/2.27.1 CPython/3.9.12 Windows/10 Windows/10.0.19043\n",
      "          administrator : True\n",
      "             netrc file : None\n",
      "           offline mode : False\n",
      "\n"
     ]
    }
   ],
   "source": [
    "!conda activate ict3104\n",
    "!conda info"
   ]
  },
  {
   "cell_type": "markdown",
   "metadata": {},
   "source": [
    "## Install the required dependencies and packages"
   ]
  },
  {
   "cell_type": "code",
   "execution_count": null,
   "metadata": {},
   "outputs": [],
   "source": [
    "!conda install nb_conda -y && conda install -c conda-forge jupyter_contrib_nbextensions -y && !conda install ipykernel -y && conda install pip -y"
   ]
  },
  {
   "cell_type": "markdown",
   "metadata": {},
   "source": [
    "## Run the following code in the anaconda prompt\n",
    "\n",
    "```conda env update -n ict3104 --file environment.yml```"
   ]
  },
  {
   "cell_type": "code",
   "execution_count": null,
   "metadata": {},
   "outputs": [],
   "source": [
    "# Check if the dependency is created\n",
    "!conda list"
   ]
  },
  {
   "cell_type": "markdown",
   "metadata": {},
   "source": [
    "# Install Requirement in virtual environment"
   ]
  },
  {
   "cell_type": "code",
   "execution_count": null,
   "metadata": {},
   "outputs": [],
   "source": [
    "!python -m venv venv"
   ]
  },
  {
   "cell_type": "code",
   "execution_count": null,
   "metadata": {},
   "outputs": [],
   "source": [
    "%venv\\Scripts\\activate && pip install -r requirements.txt"
   ]
  },
  {
   "cell_type": "markdown",
   "metadata": {},
   "source": [
    "If it is not able to install, please run the following command in the command prompt:\n",
    "```\n",
    "python -m venv venv\n",
    "venv\\Scripts\\activate\n",
    "pip install -r requirements.txt\n",
    "pip3 install torch==1.9.1+cu111 torchvision==0.10.1+cu111 torchaudio==0.9.1 -f https://download.pytorch.org/whl/torch_stable.html\n",
    "```"
   ]
  },
  {
   "cell_type": "code",
   "execution_count": null,
   "metadata": {},
   "outputs": [],
   "source": [
    "!pip freeze"
   ]
  },
  {
   "cell_type": "markdown",
   "metadata": {},
   "source": [
    "## Test the setup"
   ]
  },
  {
   "cell_type": "code",
   "execution_count": null,
   "metadata": {},
   "outputs": [],
   "source": [
    "!cd ./pipeline && python test.py -test True"
   ]
  }
 ],
 "metadata": {
  "kernelspec": {
   "display_name": "Python 3 (ipykernel)",
   "language": "python",
   "name": "python3"
  },
  "language_info": {
   "codemirror_mode": {
    "name": "ipython",
    "version": 3
   },
   "file_extension": ".py",
   "mimetype": "text/x-python",
   "name": "python",
   "nbconvert_exporter": "python",
   "pygments_lexer": "ipython3",
   "version": "3.8.12"
  },
  "vscode": {
   "interpreter": {
    "hash": "21443173980de8f8bd52f0a8d21aa24ff048531cbf1e79ef9f1f2c09c5456057"
   }
  }
 },
 "nbformat": 4,
 "nbformat_minor": 2
}
