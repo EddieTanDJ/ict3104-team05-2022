{
 "cells": [
  {
   "cell_type": "markdown",
   "id": "54d5890e",
   "metadata": {},
   "source": [
    "# Setup"
   ]
  },
  {
   "cell_type": "code",
   "execution_count": 2,
   "id": "c604876b",
   "metadata": {},
   "outputs": [],
   "source": [
    "!conda remove -n ICT3104 --all -y"
   ]
  },
  {
   "cell_type": "code",
   "execution_count": 1,
   "id": "0523a253",
   "metadata": {},
   "outputs": [
    {
     "name": "stdout",
     "output_type": "stream",
     "text": [
      "Collecting package metadata (repodata.json): ...working... done\n",
      "Solving environment: ...working... done\n",
      "Preparing transaction: ...working... done\n",
      "Verifying transaction: ...working... done\n",
      "Executing transaction: ...working... done\n",
      "Installing pip dependencies: ...working... Ran pip subprocess with arguments:\n",
      "['C:\\\\Users\\\\Eddie\\\\.conda\\\\envs\\\\ICT3104\\\\python.exe', '-m', 'pip', 'install', '-U', '-r', 'c:\\\\Users\\\\Eddie\\\\Documents\\\\ict3104-team05-2022\\\\condaenv.uth58akf.requirements.txt']\n",
      "Pip subprocess output:\n",
      "Collecting joblib==1.1.0\n",
      "\n",
      "  Using cached joblib-1.1.0-py2.py3-none-any.whl (306 kB)\n",
      "\n",
      "Collecting numpy==1.23.3\n",
      "\n",
      "  Using cached numpy-1.23.3-cp38-cp38-win_amd64.whl (14.7 MB)\n",
      "\n",
      "Collecting pillow==9.2.0\n",
      "\n",
      "  Using cached Pillow-9.2.0-cp38-cp38-win_amd64.whl (3.3 MB)\n",
      "\n",
      "Collecting scikit-learn==1.1.2\n",
      "\n",
      "  Using cached scikit_learn-1.1.2-cp38-cp38-win_amd64.whl (7.3 MB)\n",
      "\n",
      "Collecting scipy==1.9.1\n",
      "\n",
      "  Using cached scipy-1.9.1-cp38-cp38-win_amd64.whl (38.6 MB)\n",
      "\n",
      "Collecting threadpoolctl==3.1.0\n",
      "\n",
      "  Using cached threadpoolctl-3.1.0-py3-none-any.whl (14 kB)\n",
      "\n",
      "Collecting timm==0.4.12\n",
      "\n",
      "  Using cached timm-0.4.12-py3-none-any.whl (376 kB)\n",
      "\n",
      "Collecting torch==1.10.1\n",
      "\n",
      "  Using cached torch-1.10.1-cp38-cp38-win_amd64.whl (226.6 MB)\n",
      "\n",
      "Collecting torchaudio==0.10.1\n",
      "\n",
      "  Using cached torchaudio-0.10.1-cp38-cp38-win_amd64.whl (341 kB)\n",
      "\n",
      "Collecting torchvision==0.11.2\n",
      "\n",
      "  Using cached torchvision-0.11.2-cp38-cp38-win_amd64.whl (985 kB)\n",
      "\n",
      "Requirement already satisfied: typing-extensions in c:\\users\\eddie\\.conda\\envs\\ict3104\\lib\\site-packages (from torch==1.10.1->-r c:\\Users\\Eddie\\Documents\\ict3104-team05-2022\\condaenv.uth58akf.requirements.txt (line 8)) (4.3.0)\n",
      "\n",
      "Installing collected packages: torch, threadpoolctl, pillow, numpy, joblib, torchvision, torchaudio, scipy, timm, scikit-learn\n",
      "\n",
      "Successfully installed joblib-1.1.0 numpy-1.23.3 pillow-9.2.0 scikit-learn-1.1.2 scipy-1.9.1 threadpoolctl-3.1.0 timm-0.4.12 torch-1.10.1 torchaudio-0.10.1 torchvision-0.11.2\n",
      "\n",
      "\n",
      "done\n",
      "#\n",
      "# To activate this environment, use\n",
      "#\n",
      "#     $ conda activate ICT3104\n",
      "#\n",
      "# To deactivate an active environment, use\n",
      "#\n",
      "#     $ conda deactivate\n",
      "\n",
      "Retrieving notices: ...working... done\n"
     ]
    }
   ],
   "source": [
    "!conda env create -n ICT3104 --file environment.yml"
   ]
  },
  {
   "cell_type": "code",
   "execution_count": null,
   "id": "646af74d",
   "metadata": {},
   "outputs": [],
   "source": [
    "!conda env list"
   ]
  },
  {
   "cell_type": "code",
   "execution_count": null,
   "id": "bc9119cc",
   "metadata": {},
   "outputs": [],
   "source": [
    "!conda activate ICT3104"
   ]
  },
  {
   "cell_type": "code",
   "execution_count": null,
   "id": "8ef29af0",
   "metadata": {},
   "outputs": [],
   "source": [
    "# Ensure environment is working\n",
    "import torch\n",
    "import timm\n",
    "import sklearn\n",
    "import numpy"
   ]
  },
  {
   "cell_type": "markdown",
   "id": "0cc319a9",
   "metadata": {},
   "source": [
    "# Example Use"
   ]
  },
  {
   "cell_type": "code",
   "execution_count": null,
   "id": "76bf7e61",
   "metadata": {},
   "outputs": [],
   "source": []
  },
  {
   "cell_type": "markdown",
   "id": "49ab2033",
   "metadata": {},
   "source": [
    "# Apply Module"
   ]
  },
  {
   "cell_type": "code",
   "execution_count": null,
   "id": "ad285d1a",
   "metadata": {},
   "outputs": [],
   "source": []
  }
 ],
 "metadata": {
  "kernelspec": {
   "display_name": "Python 3 (ipykernel)",
   "language": "python",
   "name": "python3"
  },
  "language_info": {
   "codemirror_mode": {
    "name": "ipython",
    "version": 3
   },
   "file_extension": ".py",
   "mimetype": "text/x-python",
   "name": "python",
   "nbconvert_exporter": "python",
   "pygments_lexer": "ipython3",
   "version": "3.8.13"
  },
  "vscode": {
   "interpreter": {
    "hash": "ad2bdc8ecc057115af97d19610ffacc2b4e99fae6737bb82f5d7fb13d2f2c186"
   }
  }
 },
 "nbformat": 4,
 "nbformat_minor": 5
}
