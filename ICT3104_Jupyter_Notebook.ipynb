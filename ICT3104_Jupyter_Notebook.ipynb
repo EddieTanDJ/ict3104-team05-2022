{
 "cells": [
  {
   "cell_type": "markdown",
   "id": "54d5890e",
   "metadata": {
    "pycharm": {
     "name": "#%% md\n"
    }
   },
   "source": [
    "# Setup"
   ]
  },
  {
   "cell_type": "code",
   "execution_count": null,
   "id": "0523a253",
   "metadata": {
    "pycharm": {
     "name": "#%%\n"
    }
   },
   "outputs": [],
   "source": [
    "# Run this locally. Binder dont need run.\n",
    "!conda env create -n ict3104 --file environment.yml"
   ]
  },
  {
   "cell_type": "code",
   "execution_count": null,
   "id": "8b937be5",
   "metadata": {
    "pycharm": {
     "is_executing": true,
     "name": "#%%\n"
    }
   },
   "outputs": [],
   "source": [
    "# Run this locally. Binder dont need run.\n",
    "! conda activate ict3104 && .\\venv\\Scripts\\Activate && pip install -r requirements.txt && pip install torch==1.10.1+cu113 torchvision==0.11.2+cu113 torchaudio==0.10.1 -f https://download.pytorch.org/whl/torch_stable.html"
   ]
  },
  {
   "cell_type": "markdown",
   "id": "54b3923a",
   "metadata": {
    "pycharm": {
     "name": "#%% md\n"
    }
   },
   "source": [
    "# Example Use"
   ]
  },
  {
   "cell_type": "code",
   "execution_count": null,
   "id": "b304c1cf",
   "metadata": {
    "pycharm": {
     "is_executing": true,
     "name": "#%%\n"
    }
   },
   "outputs": [],
   "source": [
    "!cd ./pipeline && python test.py"
   ]
  },
  {
   "cell_type": "markdown",
   "id": "49ab2033",
   "metadata": {
    "pycharm": {
     "name": "#%% md\n"
    }
   },
   "source": [
    "# Apply Module"
   ]
  },
  {
   "cell_type": "code",
   "execution_count": null,
   "id": "2875825f",
   "metadata": {},
   "outputs": [],
   "source": []
  },
  {
   "cell_type": "markdown",
   "id": "51b2471c",
   "metadata": {},
   "source": [
    "# Video Upload - ipywidgets"
   ]
  },
  {
   "cell_type": "code",
   "execution_count": 28,
   "id": "2c863814",
   "metadata": {},
   "outputs": [
    {
     "data": {
      "application/vnd.jupyter.widget-view+json": {
       "model_id": "2a770abc43a14c2d9f595aed8ec6985d",
       "version_major": 2,
       "version_minor": 0
      },
      "text/plain": [
       "FileUpload(value={}, accept='.mp4', description='Upload', multiple=True)"
      ]
     },
     "metadata": {},
     "output_type": "display_data"
    }
   ],
   "source": [
    "from ipywidgets import FileUpload\n",
    "from IPython.display import display\n",
    "\n",
    "upload = FileUpload(accept='.mp4', multiple=True)\n",
    "display(upload)"
   ]
  },
  {
   "cell_type": "code",
   "execution_count": 29,
   "id": "e217701c",
   "metadata": {},
   "outputs": [
    {
     "name": "stdout",
     "output_type": "stream",
     "text": [
      "v_GGSY1Qvo990.mp4\n"
     ]
    }
   ],
   "source": [
    "with open('z_merged_output.mp4', 'wb') as output_file: \n",
    "    for uploaded_filename in upload.value:\n",
    "        print(uploaded_filename)\n",
    "        content = upload.value[uploaded_filename]['content']   \n",
    "        output_file.write(content) "
   ]
  },
  {
   "cell_type": "markdown",
   "id": "ed518c9e",
   "metadata": {},
   "source": [
    "# Video Upload - ipyfilechooser"
   ]
  },
  {
   "cell_type": "code",
   "execution_count": 31,
   "id": "ee28b72c",
   "metadata": {},
   "outputs": [
    {
     "name": "stdout",
     "output_type": "stream",
     "text": [
      "Collecting ipyfilechooser\n",
      "  Downloading ipyfilechooser-0.6.0-py3-none-any.whl (11 kB)\n",
      "Requirement already satisfied: ipywidgets in c:\\users\\johan\\anaconda3\\lib\\site-packages (from ipyfilechooser) (7.6.5)\n",
      "Requirement already satisfied: ipykernel>=4.5.1 in c:\\users\\johan\\anaconda3\\lib\\site-packages (from ipywidgets->ipyfilechooser) (6.9.1)\n",
      "Requirement already satisfied: nbformat>=4.2.0 in c:\\users\\johan\\anaconda3\\lib\\site-packages (from ipywidgets->ipyfilechooser) (5.3.0)\n",
      "Requirement already satisfied: jupyterlab-widgets>=1.0.0 in c:\\users\\johan\\anaconda3\\lib\\site-packages (from ipywidgets->ipyfilechooser) (1.0.0)\n",
      "Requirement already satisfied: traitlets>=4.3.1 in c:\\users\\johan\\anaconda3\\lib\\site-packages (from ipywidgets->ipyfilechooser) (5.1.1)\n",
      "Requirement already satisfied: ipython>=4.0.0 in c:\\users\\johan\\anaconda3\\lib\\site-packages (from ipywidgets->ipyfilechooser) (8.2.0)\n",
      "Requirement already satisfied: ipython-genutils~=0.2.0 in c:\\users\\johan\\anaconda3\\lib\\site-packages (from ipywidgets->ipyfilechooser) (0.2.0)\n",
      "Requirement already satisfied: widgetsnbextension~=3.5.0 in c:\\users\\johan\\anaconda3\\lib\\site-packages (from ipywidgets->ipyfilechooser) (3.5.2)\n",
      "Requirement already satisfied: matplotlib-inline<0.2.0,>=0.1.0 in c:\\users\\johan\\anaconda3\\lib\\site-packages (from ipykernel>=4.5.1->ipywidgets->ipyfilechooser) (0.1.2)\n",
      "Requirement already satisfied: debugpy<2.0,>=1.0.0 in c:\\users\\johan\\anaconda3\\lib\\site-packages (from ipykernel>=4.5.1->ipywidgets->ipyfilechooser) (1.5.1)\n",
      "Requirement already satisfied: jupyter-client<8.0 in c:\\users\\johan\\anaconda3\\lib\\site-packages (from ipykernel>=4.5.1->ipywidgets->ipyfilechooser) (6.1.12)\n",
      "Requirement already satisfied: tornado<7.0,>=4.2 in c:\\users\\johan\\anaconda3\\lib\\site-packages (from ipykernel>=4.5.1->ipywidgets->ipyfilechooser) (6.1)\n",
      "Requirement already satisfied: nest-asyncio in c:\\users\\johan\\anaconda3\\lib\\site-packages (from ipykernel>=4.5.1->ipywidgets->ipyfilechooser) (1.5.5)\n",
      "Requirement already satisfied: setuptools>=18.5 in c:\\users\\johan\\anaconda3\\lib\\site-packages (from ipython>=4.0.0->ipywidgets->ipyfilechooser) (61.2.0)\n",
      "Requirement already satisfied: colorama in c:\\users\\johan\\anaconda3\\lib\\site-packages (from ipython>=4.0.0->ipywidgets->ipyfilechooser) (0.4.4)\n",
      "Requirement already satisfied: backcall in c:\\users\\johan\\anaconda3\\lib\\site-packages (from ipython>=4.0.0->ipywidgets->ipyfilechooser) (0.2.0)\n",
      "Requirement already satisfied: stack-data in c:\\users\\johan\\anaconda3\\lib\\site-packages (from ipython>=4.0.0->ipywidgets->ipyfilechooser) (0.2.0)\n",
      "Requirement already satisfied: decorator in c:\\users\\johan\\anaconda3\\lib\\site-packages (from ipython>=4.0.0->ipywidgets->ipyfilechooser) (5.1.1)\n",
      "Requirement already satisfied: jedi>=0.16 in c:\\users\\johan\\anaconda3\\lib\\site-packages (from ipython>=4.0.0->ipywidgets->ipyfilechooser) (0.18.1)\n",
      "Requirement already satisfied: pygments>=2.4.0 in c:\\users\\johan\\anaconda3\\lib\\site-packages (from ipython>=4.0.0->ipywidgets->ipyfilechooser) (2.11.2)\n",
      "Requirement already satisfied: pickleshare in c:\\users\\johan\\anaconda3\\lib\\site-packages (from ipython>=4.0.0->ipywidgets->ipyfilechooser) (0.7.5)\n",
      "Requirement already satisfied: prompt-toolkit!=3.0.0,!=3.0.1,<3.1.0,>=2.0.0 in c:\\users\\johan\\anaconda3\\lib\\site-packages (from ipython>=4.0.0->ipywidgets->ipyfilechooser) (3.0.20)\n",
      "Requirement already satisfied: parso<0.9.0,>=0.8.0 in c:\\users\\johan\\anaconda3\\lib\\site-packages (from jedi>=0.16->ipython>=4.0.0->ipywidgets->ipyfilechooser) (0.8.3)\n",
      "Requirement already satisfied: python-dateutil>=2.1 in c:\\users\\johan\\anaconda3\\lib\\site-packages (from jupyter-client<8.0->ipykernel>=4.5.1->ipywidgets->ipyfilechooser) (2.8.2)\n",
      "Requirement already satisfied: pyzmq>=13 in c:\\users\\johan\\anaconda3\\lib\\site-packages (from jupyter-client<8.0->ipykernel>=4.5.1->ipywidgets->ipyfilechooser) (22.3.0)\n",
      "Requirement already satisfied: jupyter-core>=4.6.0 in c:\\users\\johan\\anaconda3\\lib\\site-packages (from jupyter-client<8.0->ipykernel>=4.5.1->ipywidgets->ipyfilechooser) (4.9.2)\n",
      "Requirement already satisfied: pywin32>=1.0 in c:\\users\\johan\\anaconda3\\lib\\site-packages (from jupyter-core>=4.6.0->jupyter-client<8.0->ipykernel>=4.5.1->ipywidgets->ipyfilechooser) (302)\n",
      "Requirement already satisfied: jsonschema>=2.6 in c:\\users\\johan\\anaconda3\\lib\\site-packages (from nbformat>=4.2.0->ipywidgets->ipyfilechooser) (4.4.0)\n",
      "Requirement already satisfied: fastjsonschema in c:\\users\\johan\\anaconda3\\lib\\site-packages (from nbformat>=4.2.0->ipywidgets->ipyfilechooser) (2.15.1)\n",
      "Requirement already satisfied: pyrsistent!=0.17.0,!=0.17.1,!=0.17.2,>=0.14.0 in c:\\users\\johan\\anaconda3\\lib\\site-packages (from jsonschema>=2.6->nbformat>=4.2.0->ipywidgets->ipyfilechooser) (0.18.0)\n",
      "Requirement already satisfied: attrs>=17.4.0 in c:\\users\\johan\\anaconda3\\lib\\site-packages (from jsonschema>=2.6->nbformat>=4.2.0->ipywidgets->ipyfilechooser) (21.4.0)\n",
      "Requirement already satisfied: wcwidth in c:\\users\\johan\\anaconda3\\lib\\site-packages (from prompt-toolkit!=3.0.0,!=3.0.1,<3.1.0,>=2.0.0->ipython>=4.0.0->ipywidgets->ipyfilechooser) (0.2.5)\n",
      "Requirement already satisfied: six>=1.5 in c:\\users\\johan\\anaconda3\\lib\\site-packages (from python-dateutil>=2.1->jupyter-client<8.0->ipykernel>=4.5.1->ipywidgets->ipyfilechooser) (1.16.0)\n",
      "Requirement already satisfied: notebook>=4.4.1 in c:\\users\\johan\\anaconda3\\lib\\site-packages (from widgetsnbextension~=3.5.0->ipywidgets->ipyfilechooser) (6.4.8)\n",
      "Requirement already satisfied: nbconvert in c:\\users\\johan\\anaconda3\\lib\\site-packages (from notebook>=4.4.1->widgetsnbextension~=3.5.0->ipywidgets->ipyfilechooser) (6.4.4)\n",
      "Requirement already satisfied: jinja2 in c:\\users\\johan\\anaconda3\\lib\\site-packages (from notebook>=4.4.1->widgetsnbextension~=3.5.0->ipywidgets->ipyfilechooser) (2.11.3)\n",
      "Requirement already satisfied: Send2Trash>=1.8.0 in c:\\users\\johan\\anaconda3\\lib\\site-packages (from notebook>=4.4.1->widgetsnbextension~=3.5.0->ipywidgets->ipyfilechooser) (1.8.0)\n",
      "Requirement already satisfied: terminado>=0.8.3 in c:\\users\\johan\\anaconda3\\lib\\site-packages (from notebook>=4.4.1->widgetsnbextension~=3.5.0->ipywidgets->ipyfilechooser) (0.13.1)\n",
      "Requirement already satisfied: prometheus-client in c:\\users\\johan\\anaconda3\\lib\\site-packages (from notebook>=4.4.1->widgetsnbextension~=3.5.0->ipywidgets->ipyfilechooser) (0.13.1)\n",
      "Requirement already satisfied: argon2-cffi in c:\\users\\johan\\anaconda3\\lib\\site-packages (from notebook>=4.4.1->widgetsnbextension~=3.5.0->ipywidgets->ipyfilechooser) (21.3.0)\n",
      "Requirement already satisfied: pywinpty>=1.1.0 in c:\\users\\johan\\anaconda3\\lib\\site-packages (from terminado>=0.8.3->notebook>=4.4.1->widgetsnbextension~=3.5.0->ipywidgets->ipyfilechooser) (2.0.2)\n",
      "Requirement already satisfied: argon2-cffi-bindings in c:\\users\\johan\\anaconda3\\lib\\site-packages (from argon2-cffi->notebook>=4.4.1->widgetsnbextension~=3.5.0->ipywidgets->ipyfilechooser) (21.2.0)\n",
      "Requirement already satisfied: cffi>=1.0.1 in c:\\users\\johan\\anaconda3\\lib\\site-packages (from argon2-cffi-bindings->argon2-cffi->notebook>=4.4.1->widgetsnbextension~=3.5.0->ipywidgets->ipyfilechooser) (1.15.0)\n",
      "Requirement already satisfied: pycparser in c:\\users\\johan\\anaconda3\\lib\\site-packages (from cffi>=1.0.1->argon2-cffi-bindings->argon2-cffi->notebook>=4.4.1->widgetsnbextension~=3.5.0->ipywidgets->ipyfilechooser) (2.21)\n",
      "Requirement already satisfied: MarkupSafe>=0.23 in c:\\users\\johan\\anaconda3\\lib\\site-packages (from jinja2->notebook>=4.4.1->widgetsnbextension~=3.5.0->ipywidgets->ipyfilechooser) (2.0.1)\n",
      "Requirement already satisfied: defusedxml in c:\\users\\johan\\anaconda3\\lib\\site-packages (from nbconvert->notebook>=4.4.1->widgetsnbextension~=3.5.0->ipywidgets->ipyfilechooser) (0.7.1)\n",
      "Requirement already satisfied: mistune<2,>=0.8.1 in c:\\users\\johan\\anaconda3\\lib\\site-packages (from nbconvert->notebook>=4.4.1->widgetsnbextension~=3.5.0->ipywidgets->ipyfilechooser) (0.8.4)\n",
      "Requirement already satisfied: nbclient<0.6.0,>=0.5.0 in c:\\users\\johan\\anaconda3\\lib\\site-packages (from nbconvert->notebook>=4.4.1->widgetsnbextension~=3.5.0->ipywidgets->ipyfilechooser) (0.5.13)\n",
      "Requirement already satisfied: bleach in c:\\users\\johan\\anaconda3\\lib\\site-packages (from nbconvert->notebook>=4.4.1->widgetsnbextension~=3.5.0->ipywidgets->ipyfilechooser) (4.1.0)\n",
      "Requirement already satisfied: testpath in c:\\users\\johan\\anaconda3\\lib\\site-packages (from nbconvert->notebook>=4.4.1->widgetsnbextension~=3.5.0->ipywidgets->ipyfilechooser) (0.5.0)\n",
      "Requirement already satisfied: beautifulsoup4 in c:\\users\\johan\\anaconda3\\lib\\site-packages (from nbconvert->notebook>=4.4.1->widgetsnbextension~=3.5.0->ipywidgets->ipyfilechooser) (4.11.1)\n",
      "Requirement already satisfied: pandocfilters>=1.4.1 in c:\\users\\johan\\anaconda3\\lib\\site-packages (from nbconvert->notebook>=4.4.1->widgetsnbextension~=3.5.0->ipywidgets->ipyfilechooser) (1.5.0)\n",
      "Requirement already satisfied: entrypoints>=0.2.2 in c:\\users\\johan\\anaconda3\\lib\\site-packages (from nbconvert->notebook>=4.4.1->widgetsnbextension~=3.5.0->ipywidgets->ipyfilechooser) (0.4)\n",
      "Requirement already satisfied: jupyterlab-pygments in c:\\users\\johan\\anaconda3\\lib\\site-packages (from nbconvert->notebook>=4.4.1->widgetsnbextension~=3.5.0->ipywidgets->ipyfilechooser) (0.1.2)\n",
      "Requirement already satisfied: soupsieve>1.2 in c:\\users\\johan\\anaconda3\\lib\\site-packages (from beautifulsoup4->nbconvert->notebook>=4.4.1->widgetsnbextension~=3.5.0->ipywidgets->ipyfilechooser) (2.3.1)\n",
      "Requirement already satisfied: packaging in c:\\users\\johan\\anaconda3\\lib\\site-packages (from bleach->nbconvert->notebook>=4.4.1->widgetsnbextension~=3.5.0->ipywidgets->ipyfilechooser) (21.3)\n",
      "Requirement already satisfied: webencodings in c:\\users\\johan\\anaconda3\\lib\\site-packages (from bleach->nbconvert->notebook>=4.4.1->widgetsnbextension~=3.5.0->ipywidgets->ipyfilechooser) (0.5.1)\n",
      "Requirement already satisfied: pyparsing!=3.0.5,>=2.0.2 in c:\\users\\johan\\anaconda3\\lib\\site-packages (from packaging->bleach->nbconvert->notebook>=4.4.1->widgetsnbextension~=3.5.0->ipywidgets->ipyfilechooser) (3.0.4)\n",
      "Requirement already satisfied: executing in c:\\users\\johan\\anaconda3\\lib\\site-packages (from stack-data->ipython>=4.0.0->ipywidgets->ipyfilechooser) (0.8.3)\n",
      "Requirement already satisfied: pure-eval in c:\\users\\johan\\anaconda3\\lib\\site-packages (from stack-data->ipython>=4.0.0->ipywidgets->ipyfilechooser) (0.2.2)\n",
      "Requirement already satisfied: asttokens in c:\\users\\johan\\anaconda3\\lib\\site-packages (from stack-data->ipython>=4.0.0->ipywidgets->ipyfilechooser) (2.0.5)\n",
      "Installing collected packages: ipyfilechooser\n",
      "Successfully installed ipyfilechooser-0.6.0\n",
      "Note: you may need to restart the kernel to use updated packages.\n"
     ]
    }
   ],
   "source": [
    "pip install ipyfilechooser"
   ]
  },
  {
   "cell_type": "code",
   "execution_count": 4,
   "id": "7459f1aa",
   "metadata": {},
   "outputs": [
    {
     "data": {
      "application/vnd.jupyter.widget-view+json": {
       "model_id": "e961816aa1e446258d31dfc59899c1f7",
       "version_major": 2,
       "version_minor": 0
      },
      "text/plain": [
       "FileChooser(path='C:\\Users\\johan\\OneDrive\\Documents\\GitHub\\ict3104-team05-2022\\i3d-feature-extraction', filena…"
      ]
     },
     "metadata": {},
     "output_type": "display_data"
    }
   ],
   "source": [
    "from ipyfilechooser import FileChooser\n",
    "\n",
    "starting_directory = 'i3d-feature-extraction'\n",
    "chooser = FileChooser(starting_directory)\n",
    "display(chooser)"
   ]
  },
  {
   "cell_type": "code",
   "execution_count": 76,
   "id": "31cdc476",
   "metadata": {},
   "outputs": [
    {
     "name": "stdout",
     "output_type": "stream",
     "text": [
      "v_GGSY1Qvo990.mp4\n",
      "C:\\Users\\johan\\OneDrive\\Documents\\GitHub\\ict3104-team05-2022\\i3d-feature-extraction\\sample\\v_GGSY1Qvo990.mp4\n",
      "C:\\Users\\johan\\OneDrive\\Documents\\GitHub\\ict3104-team05-2022\\i3d-feature-extraction\\sample\n"
     ]
    }
   ],
   "source": [
    "print(chooser.selected_filename)\n",
    "print(chooser.selected)\n",
    "print(chooser.selected_path)"
   ]
  },
  {
   "cell_type": "markdown",
   "id": "d326ce9c",
   "metadata": {},
   "source": [
    "# Video Display"
   ]
  },
  {
   "cell_type": "code",
   "execution_count": 5,
   "id": "8afb7c95",
   "metadata": {},
   "outputs": [
    {
     "data": {
      "text/html": [
       "<video src=\"i3d-feature-extraction\\sample\\Unpacking Playthrough.mp4\" controls  width=\"540\" >\n",
       "      Your browser does not support the <code>video</code> element.\n",
       "    </video>"
      ],
      "text/plain": [
       "<IPython.core.display.Video object>"
      ]
     },
     "execution_count": 5,
     "metadata": {},
     "output_type": "execute_result"
    }
   ],
   "source": [
    "from IPython.display import Video\n",
    "\n",
    "full_path = chooser.selected\n",
    "relative_path = str(full_path).split(starting_directory)[-1]\n",
    "Video(starting_directory + relative_path, width=540)"
   ]
  },
  {
   "cell_type": "code",
   "execution_count": null,
   "id": "55470535",
   "metadata": {},
   "outputs": [],
   "source": []
  }
 ],
 "metadata": {
  "kernelspec": {
   "display_name": "Python 3 (ipykernel)",
   "language": "python",
   "name": "python3"
  },
  "language_info": {
   "codemirror_mode": {
    "name": "ipython",
    "version": 3
   },
   "file_extension": ".py",
   "mimetype": "text/x-python",
   "name": "python",
   "nbconvert_exporter": "python",
   "pygments_lexer": "ipython3",
   "version": "3.9.12"
  },
  "vscode": {
   "interpreter": {
    "hash": "188f00bae071b87ef250ecfccd383e839062d91f63f4a142b45f2846c0198b1f"
   }
  }
 },
 "nbformat": 4,
 "nbformat_minor": 5
}
