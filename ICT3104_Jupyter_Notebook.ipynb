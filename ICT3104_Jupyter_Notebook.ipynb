{
 "cells": [
  {
   "cell_type": "markdown",
   "id": "54d5890e",
   "metadata": {},
   "source": [
    "# Setup"
   ]
  },
  {
   "cell_type": "code",
   "execution_count": null,
   "id": "c604876b",
   "metadata": {},
   "outputs": [],
   "source": [
    "# Run this locally. Binder dont need run.\n",
    "!conda remove -n ICT3104 --all -y"
   ]
  },
  {
   "cell_type": "code",
   "execution_count": null,
   "id": "0523a253",
   "metadata": {},
   "outputs": [],
   "source": [
    "# Run this locally. Binder dont need run.\n",
    "!conda env create -n ict3104 --file environment.yml"
   ]
  },
  {
   "cell_type": "code",
   "execution_count": null,
   "id": "bc9119cc",
   "metadata": {},
   "outputs": [],
   "source": [
    "# Run this locally. Binder dont need run.\n",
    "!conda activate ICT3104"
   ]
  },
  {
   "cell_type": "code",
   "execution_count": null,
   "id": "90274507",
   "metadata": {},
   "outputs": [],
   "source": [
    "# For CUDA Nvida GPU\n",
    "!pip3 install torch torchvision torchaudio --extra-index-url https://download.pytorch.org/whl/cu116\n"
   ]
  },
  {
   "cell_type": "code",
   "execution_count": null,
   "id": "1fc7f885",
   "metadata": {},
   "outputs": [],
   "source": [
    "# Test CUDA is working\n",
    "import torch\n",
    "torch.cuda.is_available()"
   ]
  },
  {
   "cell_type": "code",
   "execution_count": null,
   "id": "8ef29af0",
   "metadata": {},
   "outputs": [],
   "source": [
    "# Ensure environment is working\n",
    "import torch\n",
    "import timm\n",
    "import sklearn\n",
    "import numpy"
   ]
  },
  {
   "cell_type": "markdown",
   "id": "0cc319a9",
   "metadata": {},
   "source": [
    "# Example Use"
   ]
  },
  {
   "cell_type": "code",
   "execution_count": null,
   "id": "e1f6d3ab",
   "metadata": {},
   "outputs": [],
   "source": [
    "!python pipeline/train.py -dataset TSU -mode rgb -split_setting CS -model PDAN  -train True -num_channel 512 -lr 0.0002  -kernelsize 3  -APtype map  -epoch 140  -batch_size 2  -comp_info TSU_CS_RGB_PDAN -load_model ./pipeline/data/PDAN_TSU_RGB"
   ]
  },
  {
   "cell_type": "markdown",
   "id": "49ab2033",
   "metadata": {},
   "source": [
    "# Apply Module"
   ]
  },
  {
   "cell_type": "code",
   "execution_count": null,
   "id": "ad285d1a",
   "metadata": {},
   "outputs": [],
   "source": []
  }
 ],
 "metadata": {
  "kernelspec": {
   "display_name": "Python 3.8.13 ('ICT3104')",
   "language": "python",
   "name": "python3"
  },
  "language_info": {
   "codemirror_mode": {
    "name": "ipython",
    "version": 3
   },
   "file_extension": ".py",
   "mimetype": "text/x-python",
   "name": "python",
   "nbconvert_exporter": "python",
   "pygments_lexer": "ipython3",
   "version": "3.8.13"
  },
  "vscode": {
   "interpreter": {
    "hash": "6d41985e808d4de29e30cfccb1ac63130fa35729d6f17b6b48b8c479c2660857"
   }
  }
 },
 "nbformat": 4,
 "nbformat_minor": 5
}
