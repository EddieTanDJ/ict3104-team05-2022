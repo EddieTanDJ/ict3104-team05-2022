{
 "cells": [
  {
   "cell_type": "markdown",
   "id": "6c205650",
   "metadata": {},
   "source": [
    "# Import libraries"
   ]
  },
  {
   "cell_type": "code",
   "execution_count": 21,
   "id": "ae75fb79",
   "metadata": {},
   "outputs": [],
   "source": [
    "# Upload File using ipyfilechooser library\n",
    "from ipyfilechooser import FileChooser\n",
    "# Get the root directory of the project\n",
    "from pyprojroot import here\n",
    "# Copy File\n",
    "import shutil\n",
    "# Widget Packages\n",
    "import ipywidgets as widgets\n",
    "# In case widget extension not working\n",
    "# jupyter nbextension enable --py widgetsnbextension\n",
    "import os"
   ]
  },
  {
   "cell_type": "markdown",
   "id": "b68b99c7",
   "metadata": {},
   "source": [
    "# Data Exploration Section\n",
    "R2 (Epic): As a user, I want a \"Data Exploration\" section in the notebook so that I can load and display video data from the TSU project."
   ]
  },
  {
   "cell_type": "markdown",
   "id": "ed518c9e",
   "metadata": {},
   "source": [
    "## Video Upload / Choose using ipyfilechooser\n",
    "R2 (Story): As a user, I want to upload/choose files from the data folder through an appropriate UI component (E.g. Browse files) in a notebook code cell so that I can pick and choose the video data I would like to process"
   ]
  },
  {
   "cell_type": "code",
   "execution_count": 22,
   "id": "7459f1aa",
   "metadata": {},
   "outputs": [],
   "source": [
    "# from ipyfilechooser import FileChooser\n",
    "def videoselectorinput():\n",
    "    starting_directory = './data'\n",
    "    chooser = FileChooser(starting_directory)\n",
    "    display(chooser)\n",
    "    return chooser\n",
    "    \n",
    "def videoselectoroutput():\n",
    "    starting_directory = './pipeline/video/output'\n",
    "    chooser = FileChooser(starting_directory)\n",
    "    display(chooser)\n",
    "    return chooser"
   ]
  },
  {
   "cell_type": "code",
   "execution_count": 23,
   "id": "fa9251f7",
   "metadata": {},
   "outputs": [
    {
     "data": {
      "text/plain": "FileChooser(path='C:\\Users\\Work\\Desktop\\Projects\\ict3104-team05-2022\\data', filename='', title='', show_hidden…",
      "application/vnd.jupyter.widget-view+json": {
       "version_major": 2,
       "version_minor": 0,
       "model_id": "9152eb729969456c9fddcdcb6446a774"
      }
     },
     "metadata": {},
     "output_type": "display_data"
    }
   ],
   "source": [
    "video = videoselectorinput()"
   ]
  },
  {
   "cell_type": "markdown",
   "id": "ffe9761f",
   "metadata": {},
   "source": [
    "## Upload selected file to the data folder (If needed)"
   ]
  },
  {
   "cell_type": "code",
   "execution_count": 24,
   "id": "31cdc476",
   "metadata": {},
   "outputs": [
    {
     "name": "stdout",
     "output_type": "stream",
     "text": [
      "None\n",
      "Error occurred while copying file.\n"
     ]
    }
   ],
   "source": [
    "# Upload Function\n",
    "# from pyprojroot import here\n",
    "# import shutil\n",
    "def upload(video):\n",
    "    print(video.selected)\n",
    "    source = video.selected\n",
    "    # Source path\n",
    "    # Destination path\n",
    "    destination = (here(\"./data\"))\n",
    "\n",
    "    # Copy file from the selected path\n",
    "    try:\n",
    "        shutil.copy(source, destination)\n",
    "        print(\"File copied successfully.\")\n",
    "\n",
    "    # If source and destination are same\n",
    "    except shutil.SameFileError:\n",
    "        print(\"Source and destination represents the same file.\")\n",
    "\n",
    "    # If destination is a directory.\n",
    "    except IsADirectoryError:\n",
    "        print(\"Destination is a directory.\")\n",
    "\n",
    "    # If there is any permission issue\n",
    "    except PermissionError:\n",
    "        print(\"Permission denied.\")\n",
    "\n",
    "    # For other errors\n",
    "    except:\n",
    "        print(\"Error occurred while copying file.\")\n",
    "\n",
    "upload(video)"
   ]
  },
  {
   "cell_type": "markdown",
   "id": "6cd190ad",
   "metadata": {},
   "source": [
    "## Video Playback\n",
    "R2 (Story): As a user, I want to see video playback of the chosen video file in an output cell so that I can check if it is the right video data I would like to process"
   ]
  },
  {
   "cell_type": "code",
   "execution_count": 25,
   "id": "a7ce6882",
   "metadata": {},
   "outputs": [
    {
     "data": {
      "text/plain": "FileChooser(path='C:\\Users\\Work\\Desktop\\Projects\\ict3104-team05-2022\\data', filename='', title='', show_hidden…",
      "application/vnd.jupyter.widget-view+json": {
       "version_major": 2,
       "version_minor": 0,
       "model_id": "a3db4d4bf8144e97997bbfe70375b3e1"
      }
     },
     "metadata": {},
     "output_type": "display_data"
    }
   ],
   "source": [
    "# Select Video\n",
    "video = videoselectorinput()"
   ]
  },
  {
   "cell_type": "code",
   "execution_count": 26,
   "id": "ce0d5e2f",
   "metadata": {},
   "outputs": [
    {
     "name": "stdout",
     "output_type": "stream",
     "text": [
      "None\n",
      "None\n",
      "None\n"
     ]
    }
   ],
   "source": [
    "print(video.selected)\n",
    "print(video.selected_filename)\n",
    "print(video.selected_path)"
   ]
  },
  {
   "cell_type": "code",
   "execution_count": 27,
   "id": "09127163",
   "metadata": {},
   "outputs": [
    {
     "ename": "TypeError",
     "evalue": "a bytes-like object is required, not 'NoneType'",
     "output_type": "error",
     "traceback": [
      "\u001B[1;31m---------------------------------------------------------------------------\u001B[0m",
      "\u001B[1;31mTypeError\u001B[0m                                 Traceback (most recent call last)",
      "File \u001B[1;32m~\\Desktop\\Projects\\ict3104-team05-2022\\venv\\lib\\site-packages\\IPython\\core\\formatters.py:343\u001B[0m, in \u001B[0;36mBaseFormatter.__call__\u001B[1;34m(self, obj)\u001B[0m\n\u001B[0;32m    341\u001B[0m     method \u001B[38;5;241m=\u001B[39m get_real_method(obj, \u001B[38;5;28mself\u001B[39m\u001B[38;5;241m.\u001B[39mprint_method)\n\u001B[0;32m    342\u001B[0m     \u001B[38;5;28;01mif\u001B[39;00m method \u001B[38;5;129;01mis\u001B[39;00m \u001B[38;5;129;01mnot\u001B[39;00m \u001B[38;5;28;01mNone\u001B[39;00m:\n\u001B[1;32m--> 343\u001B[0m         \u001B[38;5;28;01mreturn\u001B[39;00m \u001B[43mmethod\u001B[49m\u001B[43m(\u001B[49m\u001B[43m)\u001B[49m\n\u001B[0;32m    344\u001B[0m     \u001B[38;5;28;01mreturn\u001B[39;00m \u001B[38;5;28;01mNone\u001B[39;00m\n\u001B[0;32m    345\u001B[0m \u001B[38;5;28;01melse\u001B[39;00m:\n",
      "File \u001B[1;32m~\\Desktop\\Projects\\ict3104-team05-2022\\venv\\lib\\site-packages\\IPython\\core\\display.py:1188\u001B[0m, in \u001B[0;36mVideo._repr_html_\u001B[1;34m(self)\u001B[0m\n\u001B[0;32m   1186\u001B[0m            b64_video \u001B[38;5;241m=\u001B[39m video\n\u001B[0;32m   1187\u001B[0m        \u001B[38;5;28;01melse\u001B[39;00m:\n\u001B[1;32m-> 1188\u001B[0m            b64_video \u001B[38;5;241m=\u001B[39m \u001B[43mb2a_base64\u001B[49m\u001B[43m(\u001B[49m\u001B[43mvideo\u001B[49m\u001B[43m)\u001B[49m\u001B[38;5;241m.\u001B[39mdecode(\u001B[38;5;124m'\u001B[39m\u001B[38;5;124mascii\u001B[39m\u001B[38;5;124m'\u001B[39m)\u001B[38;5;241m.\u001B[39mrstrip()\n\u001B[0;32m   1190\u001B[0m        output \u001B[38;5;241m=\u001B[39m \u001B[38;5;124m\"\"\"\u001B[39m\u001B[38;5;124m<video \u001B[39m\u001B[38;5;132;01m{0}\u001B[39;00m\u001B[38;5;124m \u001B[39m\u001B[38;5;132;01m{1}\u001B[39;00m\u001B[38;5;124m \u001B[39m\u001B[38;5;132;01m{2}\u001B[39;00m\u001B[38;5;124m>\u001B[39m\n\u001B[0;32m   1191\u001B[0m \u001B[38;5;124m<source src=\u001B[39m\u001B[38;5;124m\"\u001B[39m\u001B[38;5;124mdata:\u001B[39m\u001B[38;5;132;01m{3}\u001B[39;00m\u001B[38;5;124m;base64,\u001B[39m\u001B[38;5;132;01m{4}\u001B[39;00m\u001B[38;5;124m\"\u001B[39m\u001B[38;5;124m type=\u001B[39m\u001B[38;5;124m\"\u001B[39m\u001B[38;5;132;01m{3}\u001B[39;00m\u001B[38;5;124m\"\u001B[39m\u001B[38;5;124m>\u001B[39m\n\u001B[0;32m   1192\u001B[0m \u001B[38;5;124mYour browser does not support the video tag.\u001B[39m\n\u001B[0;32m   1193\u001B[0m \u001B[38;5;124m</video>\u001B[39m\u001B[38;5;124m\"\"\"\u001B[39m\u001B[38;5;241m.\u001B[39mformat(\u001B[38;5;28mself\u001B[39m\u001B[38;5;241m.\u001B[39mhtml_attributes, width, height, mimetype, b64_video)\n\u001B[0;32m   1194\u001B[0m        \u001B[38;5;28;01mreturn\u001B[39;00m output\n",
      "\u001B[1;31mTypeError\u001B[0m: a bytes-like object is required, not 'NoneType'"
     ]
    },
    {
     "data": {
      "text/plain": "<IPython.core.display.Video object>"
     },
     "execution_count": 27,
     "metadata": {},
     "output_type": "execute_result"
    }
   ],
   "source": [
    "from IPython.display import Video\n",
    "\n",
    "full_path = video.selected\n",
    "Video(full_path, embed=True, width=540, html_attributes=\"controls muted autoplay\")"
   ]
  },
  {
   "cell_type": "markdown",
   "id": "51191d83",
   "metadata": {},
   "source": [
    "# Inference Section\n",
    "\n",
    "R3 (Epic): As a user, I want to have an \"Inference\" section in the notebook so that I can perform inference using a pretrained HOI ML model based on the TSU project."
   ]
  },
  {
   "cell_type": "markdown",
   "id": "e90b56cd",
   "metadata": {},
   "source": [
    "## Load a pretrain model\n",
    "R3 (Story): As a user, I want to load a pre-trained model using an appropriate UI component so that I can easily load the model."
   ]
  },
  {
   "cell_type": "code",
   "execution_count": 28,
   "id": "263f4135",
   "metadata": {},
   "outputs": [
    {
     "data": {
      "text/plain": "VBox(children=(HBox(children=(Dropdown(description='Model:', options=('PDAN_TSU_RGB',), value='PDAN_TSU_RGB'),…",
      "application/vnd.jupyter.widget-view+json": {
       "version_major": 2,
       "version_minor": 0,
       "model_id": "b538d5db7935493eb715b92a8b48dd3b"
      }
     },
     "execution_count": 28,
     "metadata": {},
     "output_type": "execute_result"
    }
   ],
   "source": [
    "\"\"\"\n",
    "Select the model\n",
    "\"\"\"\n",
    "modelList = [] \n",
    "\n",
    "# Select from the list of model in the pipeline/models folder\n",
    "for x in os.listdir(\"./pipeline/models\"): \n",
    "    modelList += [x]\n",
    "\n",
    "# Widgets\n",
    "confirmButton = widgets.Button(\n",
    "    description='Confirm',\n",
    "    disabled=False,\n",
    "    button_style='success',\n",
    "    icon='check'\n",
    ")\n",
    "modelDropdown = widgets.Dropdown(\n",
    "    options=modelList,\n",
    "    value=modelList[0],\n",
    "    description='Model:')\n",
    "# Function on what happen when confirm is been click.\n",
    "def selectWidgetSet(b):\n",
    "    print(\"Selected: \" , modelDropdown.value)\n",
    "\n",
    "confirmButton.on_click(selectWidgetSet)\n",
    "modelBox = widgets.VBox([widgets.HBox([modelDropdown, confirmButton])])\n",
    "modelBox"
   ]
  },
  {
   "cell_type": "code",
   "execution_count": 29,
   "id": "6e4bd5cd",
   "metadata": {},
   "outputs": [
    {
     "name": "stdout",
     "output_type": "stream",
     "text": [
      "PDAN_TSU_RGB\n"
     ]
    }
   ],
   "source": [
    "print(modelDropdown.value)"
   ]
  },
  {
   "cell_type": "markdown",
   "id": "6cad9e82",
   "metadata": {},
   "source": [
    "## Choose Input video to load into TSU Project\n",
    "R3 (Story): As a user, I want to choose an  input video files and other related input files, using an appropriate UI component, from the TSU project so that the system is able to pass the right files to the model."
   ]
  },
  {
   "cell_type": "code",
   "execution_count": 30,
   "id": "63a7e1db",
   "metadata": {},
   "outputs": [
    {
     "data": {
      "text/plain": "FileChooser(path='C:\\Users\\Work\\Desktop\\Projects\\ict3104-team05-2022\\data', filename='', title='', show_hidden…",
      "application/vnd.jupyter.widget-view+json": {
       "version_major": 2,
       "version_minor": 0,
       "model_id": "4c1b614a479b4463b1bfe69088fecdbb"
      }
     },
     "metadata": {},
     "output_type": "display_data"
    }
   ],
   "source": [
    "# Select Video\n",
    "video = videoselectorinput()"
   ]
  },
  {
   "cell_type": "code",
   "execution_count": 31,
   "id": "8f9321c2",
   "metadata": {},
   "outputs": [
    {
     "name": "stdout",
     "output_type": "stream",
     "text": [
      "None\n",
      "None\n",
      "None\n"
     ]
    }
   ],
   "source": [
    "print(video.selected)\n",
    "print(video.selected_filename)\n",
    "print(video.selected_path)"
   ]
  },
  {
   "cell_type": "markdown",
   "id": "cf8854da",
   "metadata": {},
   "source": [
    "## Run the model \n",
    "R3 (Story): As a user, I want to see inference results in the form of an output video with captions that indicate the current detected activity in each video frame so that I am able to see the inference results clearly on the screen."
   ]
  },
  {
   "cell_type": "code",
   "execution_count": 32,
   "id": "c051be87",
   "metadata": {},
   "outputs": [
    {
     "name": "stdout",
     "output_type": "stream",
     "text": [
      "PDAN_TSU_RGB\n",
      "None\n",
      "None\n",
      "./models/PDAN_TSU_RGB\n"
     ]
    }
   ],
   "source": [
    "# Testing\n",
    "!echo $modelDropdown.value\n",
    "!echo $video.selected_filename\n",
    "!echo $video.selected\n",
    "# Get the directory of the loadmodel\n",
    "loadmodel = './models/' + modelDropdown.value\n",
    "!echo $loadmodel"
   ]
  },
  {
   "cell_type": "code",
   "execution_count": null,
   "id": "69b5f2d8",
   "metadata": {
    "pycharm": {
     "is_executing": true
    }
   },
   "outputs": [],
   "source": [
    "!cd ./pipeline && python test.py -input_video_full_path $video.selected -input_video_file $video.selected_filename -model $modelDropdown.value -load_model $loadmodel"
   ]
  },
  {
   "cell_type": "markdown",
   "id": "d326ce9c",
   "metadata": {},
   "source": [
    "## Output Video to view the inference result "
   ]
  },
  {
   "cell_type": "code",
   "execution_count": null,
   "id": "57b30e04",
   "metadata": {
    "pycharm": {
     "is_executing": true
    }
   },
   "outputs": [],
   "source": [
    "# Select output video\n",
    "video = videoselectoroutput()"
   ]
  },
  {
   "cell_type": "code",
   "execution_count": null,
   "id": "015e6a8e",
   "metadata": {
    "pycharm": {
     "is_executing": true
    }
   },
   "outputs": [],
   "source": [
    "print(video.selected)\n",
    "print(video.selected_filename)\n",
    "print(video.selected_path)"
   ]
  },
  {
   "cell_type": "code",
   "execution_count": null,
   "id": "8afb7c95",
   "metadata": {
    "pycharm": {
     "is_executing": true
    }
   },
   "outputs": [],
   "source": [
    "from IPython.display import Video\n",
    "\n",
    "full_path = video.selected\n",
    "Video(full_path, embed=True, width=540, html_attributes=\"controls muted autoplay\")"
   ]
  },
  {
   "cell_type": "markdown",
   "id": "67463a88",
   "metadata": {},
   "source": [
    "# Trainng Section\n",
    "R4 (Epic): As a user, I want to create a \"Training\" section in the netbook so that I can train a HOI ML model based on the TSU project."
   ]
  },
  {
   "cell_type": "markdown",
   "id": "5ba99aa7",
   "metadata": {},
   "source": [
    "# Testing Section\n",
    "R5 (Epic): As a user, I want to have a \"Testing\" section in the notebook so that I can evaluate a trained model based on the TSU project."
   ]
  },
  {
   "cell_type": "markdown",
   "id": "5143aac1",
   "metadata": {},
   "source": [
    "# NVIDIA STEP Section\n",
    "R6 (Epic): As a user, I want to able to configure the notebook using appropriate UI elements coupled with the right .py modules so that R2-5 can be performed based on another pipeline, e.g., the NVIDIA STEP pipeline "
   ]
  },
  {
   "cell_type": "markdown",
   "id": "ccd71b6b",
   "metadata": {},
   "source": [
    "## Pipeline Selection\n",
    "R6(Story): As a user, I want to create appropriate UI elements to allow for switching pipelines so that I can test the different models\n",
    "\n"
   ]
  },
  {
   "cell_type": "code",
   "execution_count": null,
   "id": "205ee99d",
   "metadata": {
    "pycharm": {
     "is_executing": true
    }
   },
   "outputs": [],
   "source": [
    "w = widgets.Dropdown(\n",
    "    options=['TSU', 'NVIDIA SMarthome'],\n",
    "    value='TSU',\n",
    "    description='Pipeline:',\n",
    ")\n",
    "\n",
    "def on_change(change):\n",
    "    if change['type'] == 'change' and change['name'] == 'value':\n",
    "        print(\"changed to %s\" % change['new'])\n",
    "\n",
    "w.observe(on_change)\n",
    "\n",
    "display(w)"
   ]
  },
  {
   "cell_type": "markdown",
   "id": "58612b38",
   "metadata": {},
   "source": [
    "## Nvidida Step Pipeline\n",
    "R6(Story): As a user, I want to ensure selected pipeline's dependencies are changed to ensure the right dependencies are given to the appropriate models so that the selected model will be run"
   ]
  },
  {
   "cell_type": "code",
   "execution_count": null,
   "id": "954b4e04",
   "metadata": {
    "scrolled": true,
    "pycharm": {
     "is_executing": true
    }
   },
   "outputs": [],
   "source": [
    "%cd ./NVIDIA-STEP-MODEL/STEP"
   ]
  },
  {
   "cell_type": "code",
   "execution_count": null,
   "id": "72509944",
   "metadata": {
    "pycharm": {
     "is_executing": true
    }
   },
   "outputs": [],
   "source": [
    "!pip install ninja"
   ]
  },
  {
   "cell_type": "code",
   "execution_count": null,
   "id": "680f76eb",
   "metadata": {
    "pycharm": {
     "is_executing": true
    }
   },
   "outputs": [],
   "source": [
    "!pip install cuda-python"
   ]
  },
  {
   "cell_type": "code",
   "execution_count": null,
   "id": "bb8801f2",
   "metadata": {
    "pycharm": {
     "is_executing": true
    }
   },
   "outputs": [],
   "source": [
    "!ipython setup.py build develop"
   ]
  },
  {
   "cell_type": "code",
   "execution_count": null,
   "id": "e176b4f7",
   "metadata": {
    "pycharm": {
     "is_executing": true
    }
   },
   "outputs": [],
   "source": [
    "!python demo.py"
   ]
  },
  {
   "cell_type": "code",
   "execution_count": null,
   "id": "5cdf4465",
   "metadata": {
    "scrolled": true,
    "pycharm": {
     "is_executing": true
    }
   },
   "outputs": [],
   "source": [
    "from IPython.display import Image\n",
    "Image(filename='datasets/demo/frames/results/2/frame0000.jpg') "
   ]
  },
  {
   "cell_type": "code",
   "execution_count": null,
   "id": "b18281ba",
   "metadata": {
    "pycharm": {
     "is_executing": true
    }
   },
   "outputs": [],
   "source": []
  }
 ],
 "metadata": {
  "kernelspec": {
   "display_name": "Python 3",
   "language": "python",
   "name": "python3"
  },
  "language_info": {
   "codemirror_mode": {
    "name": "ipython",
    "version": 3
   },
   "file_extension": ".py",
   "mimetype": "text/x-python",
   "name": "python",
   "nbconvert_exporter": "python",
   "pygments_lexer": "ipython3",
   "version": "3.8.8"
  },
  "vscode": {
   "interpreter": {
    "hash": "6d41985e808d4de29e30cfccb1ac63130fa35729d6f17b6b48b8c479c2660857"
   }
  }
 },
 "nbformat": 4,
 "nbformat_minor": 5
}
