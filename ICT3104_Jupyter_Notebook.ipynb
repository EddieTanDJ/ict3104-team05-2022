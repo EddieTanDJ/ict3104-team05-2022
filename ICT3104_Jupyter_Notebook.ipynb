{
 "cells": [
  {
   "cell_type": "markdown",
   "id": "6c205650",
   "metadata": {
    "pycharm": {
     "name": "#%% md\n"
    }
   },
   "source": [
    "# Import libraries"
   ]
  },
  {
   "cell_type": "code",
   "execution_count": null,
   "id": "ae75fb79",
   "metadata": {
    "pycharm": {
     "name": "#%%\n"
    }
   },
   "outputs": [],
   "source": [
    "# Upload File using ipyfilechooser library\n",
    "from ipyfilechooser import FileChooser\n",
    "# Get the root directory of the project\n",
    "from pyprojroot import here\n",
    "from IPython.display import display, Javascript\n",
    "# Copy File\n",
    "import shutil\n",
    "# Widget Packages\n",
    "import ipywidgets as widgets\n",
    "# In case widget extension not working\n",
    "# jupyter nbextension enable --py widgetsnbextension\n",
    "import os"
   ]
  },
  {
   "cell_type": "markdown",
   "id": "b68b99c7",
   "metadata": {
    "pycharm": {
     "name": "#%% md\n"
    }
   },
   "source": [
    "# Data Exploration Section\n",
    "R2 (Epic): As a user, I want a \"Data Exploration\" section in the notebook so that I can load and display video data from the TSU project."
   ]
  },
  {
   "cell_type": "markdown",
   "id": "ed518c9e",
   "metadata": {
    "pycharm": {
     "name": "#%% md\n"
    }
   },
   "source": [
    "## Video Upload / Choose using ipyfilechooser\n",
    "R2 (Story): As a user, I want to upload/choose files from the data folder through an appropriate UI component (E.g. Browse files) in a notebook code cell so that I can pick and choose the video data I would like to process"
   ]
  },
  {
   "cell_type": "code",
   "execution_count": null,
   "id": "7459f1aa",
   "metadata": {
    "pycharm": {
     "name": "#%%\n"
    }
   },
   "outputs": [],
   "source": [
    "# from ipyfilechooser import FileChooser\n",
    "def videoselectorinput():\n",
    "    starting_directory = './data'\n",
    "    chooser = FileChooser(starting_directory)\n",
    "    display(chooser)\n",
    "    return chooser\n",
    "    \n",
    "def videoselectoroutput():\n",
    "    starting_directory = './pipeline/video/output'\n",
    "    chooser = FileChooser(starting_directory)\n",
    "    display(chooser)\n",
    "    return chooser"
   ]
  },
  {
   "cell_type": "code",
   "execution_count": null,
   "id": "fa9251f7",
   "metadata": {},
   "outputs": [],
   "source": [
    "video = videoselectorinput()"
   ]
  },
  {
   "cell_type": "markdown",
   "id": "ffe9761f",
   "metadata": {
    "pycharm": {
     "name": "#%% md\n"
    }
   },
   "source": [
    "## Upload selected file to the data folder (If needed)"
   ]
  },
  {
   "cell_type": "code",
   "execution_count": null,
   "id": "31cdc476",
   "metadata": {
    "pycharm": {
     "name": "#%%\n"
    }
   },
   "outputs": [],
   "source": [
    "# Upload Function\n",
    "# from pyprojroot import here\n",
    "# import shutil\n",
    "def upload(video):\n",
    "    print(video.selected)\n",
    "    source = video.selected\n",
    "    # Source path\n",
    "    # Destination path\n",
    "    destination = (here(\"./data\"))\n",
    "\n",
    "    # Copy file from the selected path\n",
    "    try:\n",
    "        shutil.copy(source, destination)\n",
    "        print(\"File copied successfully.\")\n",
    "\n",
    "    # If source and destination are same\n",
    "    except shutil.SameFileError:\n",
    "        print(\"Source and destination represents the same file.\")\n",
    "\n",
    "    # If destination is a directory.\n",
    "    except IsADirectoryError:\n",
    "        print(\"Destination is a directory.\")\n",
    "\n",
    "    # If there is any permission issue\n",
    "    except PermissionError:\n",
    "        print(\"Permission denied.\")\n",
    "\n",
    "    # For other errors\n",
    "    except:\n",
    "        print(\"Error occurred while copying file.\")\n",
    "\n",
    "upload(video)"
   ]
  },
  {
   "cell_type": "markdown",
   "id": "6cd190ad",
   "metadata": {
    "pycharm": {
     "name": "#%% md\n"
    }
   },
   "source": [
    "## Video Playback\n",
    "R2 (Story): As a user, I want to see video playback of the chosen video file in an output cell so that I can check if it is the right video data I would like to process"
   ]
  },
  {
   "cell_type": "code",
   "execution_count": null,
   "id": "a7ce6882",
   "metadata": {
    "pycharm": {
     "name": "#%%\n"
    }
   },
   "outputs": [],
   "source": [
    "# Select Video\n",
    "video = videoselectorinput()"
   ]
  },
  {
   "cell_type": "code",
   "execution_count": null,
   "id": "ce0d5e2f",
   "metadata": {},
   "outputs": [],
   "source": [
    "print(video.selected)\n",
    "print(video.selected_filename)\n",
    "print(video.selected_path)"
   ]
  },
  {
   "cell_type": "code",
   "execution_count": null,
   "id": "09127163",
   "metadata": {
    "pycharm": {
     "name": "#%%\n"
    }
   },
   "outputs": [],
   "source": [
    "from IPython.display import Video\n",
    "\n",
    "full_path = video.selected\n",
    "Video(full_path, embed=True, width=540, html_attributes=\"controls muted autoplay\")"
   ]
  },
  {
   "cell_type": "markdown",
   "id": "51191d83",
   "metadata": {
    "pycharm": {
     "name": "#%% md\n"
    }
   },
   "source": [
    "# Inference Section\n",
    "\n",
    "R3 (Epic): As a user, I want to have an \"Inference\" section in the notebook so that I can perform inference using a pretrained HOI ML model based on the TSU project."
   ]
  },
  {
   "cell_type": "markdown",
   "id": "e90b56cd",
   "metadata": {
    "pycharm": {
     "name": "#%% md\n"
    }
   },
   "source": [
    "## Load a pretrain model\n",
    "R3 (Story): As a user, I want to load a pre-trained model using an appropriate UI component so that I can easily load the model."
   ]
  },
  {
   "cell_type": "code",
   "execution_count": null,
   "id": "263f4135",
   "metadata": {
    "pycharm": {
     "name": "#%%\n"
    }
   },
   "outputs": [],
   "source": [
    "\"\"\"\n",
    "Select the model\n",
    "\"\"\"\n",
    "modelList = [] \n",
    "\n",
    "# Select from the list of model in the pipeline/models folder\n",
    "for x in os.listdir(\"./pipeline/models\"): \n",
    "    modelList += [x]\n",
    "\n",
    "# Widgets\n",
    "confirmButton = widgets.Button(\n",
    "    description='Confirm',\n",
    "    disabled=False,\n",
    "    button_style='success',\n",
    "    icon='check'\n",
    ")\n",
    "modelDropdown = widgets.Dropdown(\n",
    "    options=modelList,\n",
    "    value=modelList[0],\n",
    "    description='Model:')\n",
    "# Function on what happen when confirm is been click.\n",
    "def selectWidgetSet(b):\n",
    "    print(\"Selected: \" , modelDropdown.value)\n",
    "\n",
    "confirmButton.on_click(selectWidgetSet)\n",
    "modelBox = widgets.VBox([widgets.HBox([modelDropdown, confirmButton])])\n",
    "modelBox"
   ]
  },
  {
   "cell_type": "code",
   "execution_count": null,
   "id": "6e4bd5cd",
   "metadata": {},
   "outputs": [],
   "source": [
    "print(modelDropdown.value)"
   ]
  },
  {
   "cell_type": "markdown",
   "id": "6cad9e82",
   "metadata": {
    "pycharm": {
     "name": "#%% md\n"
    }
   },
   "source": [
    "## Choose Input video to load into TSU Project\n",
    "R3 (Story): As a user, I want to choose an  input video files and other related input files, using an appropriate UI component, from the TSU project so that the system is able to pass the right files to the model."
   ]
  },
  {
   "cell_type": "code",
   "execution_count": null,
   "id": "63a7e1db",
   "metadata": {
    "pycharm": {
     "name": "#%%\n"
    }
   },
   "outputs": [],
   "source": [
    "# Select Video\n",
    "video = videoselectorinput()"
   ]
  },
  {
   "cell_type": "code",
   "execution_count": null,
   "id": "8f9321c2",
   "metadata": {},
   "outputs": [],
   "source": [
    "print(video.selected)\n",
    "print(video.selected_filename)\n",
    "print(video.selected_path)"
   ]
  },
  {
   "cell_type": "markdown",
   "id": "cf8854da",
   "metadata": {
    "pycharm": {
     "name": "#%% md\n"
    }
   },
   "source": [
    "## Run the model \n",
    "R3 (Story): As a user, I want to see inference results in the form of an output video with captions that indicate the current detected activity in each video frame so that I am able to see the inference results clearly on the screen."
   ]
  },
  {
   "cell_type": "code",
   "execution_count": null,
   "id": "c051be87",
   "metadata": {},
   "outputs": [],
   "source": [
    "# Testing\n",
    "!echo $modelDropdown.value\n",
    "!echo $video.selected_filename\n",
    "!echo $video.selected\n",
    "# Get the directory of the loadmodel\n",
    "loadmodel = './models/' + modelDropdown.value\n",
    "!echo $loadmodel"
   ]
  },
  {
   "cell_type": "code",
   "execution_count": null,
   "id": "69b5f2d8",
   "metadata": {
    "pycharm": {
     "name": "#%%\n"
    }
   },
   "outputs": [],
   "source": [
    "!cd ./pipeline && python test.py -input_video_full_path $video.selected -input_video_file $video.selected_filename -model $modelDropdown.value -load_model $loadmodel"
   ]
  },
  {
   "cell_type": "markdown",
   "id": "d326ce9c",
   "metadata": {
    "pycharm": {
     "name": "#%% md\n"
    }
   },
   "source": [
    "## Output Video to view the inference result "
   ]
  },
  {
   "cell_type": "code",
   "execution_count": null,
   "id": "57b30e04",
   "metadata": {
    "pycharm": {
     "name": "#%%\n"
    }
   },
   "outputs": [],
   "source": [
    "# Select output video\n",
    "video = videoselectoroutput()"
   ]
  },
  {
   "cell_type": "code",
   "execution_count": null,
   "id": "015e6a8e",
   "metadata": {},
   "outputs": [],
   "source": [
    "print(video.selected)\n",
    "print(video.selected_filename)\n",
    "print(video.selected_path)"
   ]
  },
  {
   "cell_type": "code",
   "execution_count": null,
   "id": "8afb7c95",
   "metadata": {
    "pycharm": {
     "name": "#%%\n"
    }
   },
   "outputs": [],
   "source": [
    "from IPython.display import Video\n",
    "\n",
    "full_path = video.selected\n",
    "Video(full_path, embed=True, width=540, html_attributes=\"controls muted autoplay\")"
   ]
  },
  {
   "cell_type": "markdown",
   "id": "ace811b9",
   "metadata": {},
   "source": [
    "# Feature Extraction Section\n"
   ]
  },
  {
   "cell_type": "markdown",
   "id": "fdbcc642",
   "metadata": {},
   "source": [
    "## Running main feature-extraction function\n",
    "After which, we will be running the main feature-extraction function to extract features from valid videos listed in valid_videos.txt to create RGB/FLOW/RGB+FLOW .npy files for training later on."
   ]
  },
  {
   "cell_type": "code",
   "execution_count": null,
   "id": "354775f5",
   "metadata": {},
   "outputs": [],
   "source": [
    "!cd ./i3d-feature-extraction && python main.py feature_type=r21d device=\"cuda:0\" on_extraction=save_numpy streams=rgb output_path=./output/RGB file_with_video_paths=./sample/sample_video_paths.txt\n",
    "\n",
    "display(Javascript(\"\"\"\n",
    "require(\n",
    "    [\"base/js/dialog\"], \n",
    "    function(dialog) {\n",
    "        dialog.modal({\n",
    "            title: 'Feature Extraction',\n",
    "            body: 'Feature Extraction Successful! RGB npy files saved to i3d-feature-extraction/output/RGB',\n",
    "            buttons: {\n",
    "                'Okay': {}\n",
    "            }\n",
    "        });\n",
    "    })\n",
    "\"\"\"))"
   ]
  },
  {
   "cell_type": "markdown",
   "id": "90fca899",
   "metadata": {},
   "source": [
    "## Running validate_train_test.py\n",
    "Running validate_train_test.py to remove video IDs from smarthome_cs_51.json file and create an updated version called smarthome_cs_51_v2.json"
   ]
  },
  {
   "cell_type": "code",
   "execution_count": null,
   "id": "52c3fa38",
   "metadata": {},
   "outputs": [],
   "source": [
    "!cd ./i3d-feature-extraction && python validate_train_test.py"
   ]
  },
  {
   "cell_type": "markdown",
   "id": "67463a88",
   "metadata": {
    "pycharm": {
     "name": "#%% md\n"
    }
   },
   "source": [
    "# Training Section\n",
    "R4 (Epic): As a user, I want to create a \"Training\" section in the netbook so that I can train a HOI ML model based on the TSU project."
   ]
  },
  {
   "cell_type": "markdown",
   "id": "5ba99aa7",
   "metadata": {
    "pycharm": {
     "name": "#%% md\n"
    }
   },
   "source": [
    "# Testing Section\n",
    "R5 (Epic): As a user, I want to have a \"Testing\" section in the notebook so that I can evaluate a trained model based on the TSU project."
   ]
  },
  {
   "cell_type": "markdown",
   "id": "5143aac1",
   "metadata": {
    "pycharm": {
     "name": "#%% md\n"
    }
   },
   "source": [
    "# NVIDIA STEP Section\n",
    "R6 (Epic): As a user, I want to able to configure the notebook using appropriate UI elements coupled with the right .py modules so that R2-5 can be performed based on another pipeline, e.g., the NVIDIA STEP pipeline "
   ]
  },
  {
   "cell_type": "markdown",
   "id": "ccd71b6b",
   "metadata": {
    "pycharm": {
     "name": "#%% md\n"
    }
   },
   "source": [
    "## Pipeline Selection\n",
    "R6(Story): As a user, I want to create appropriate UI elements to allow for switching pipelines so that I can test the different models\n",
    "\n"
   ]
  },
  {
   "cell_type": "code",
   "execution_count": null,
   "id": "205ee99d",
   "metadata": {
    "pycharm": {
     "name": "#%%\n"
    }
   },
   "outputs": [],
   "source": [
    "w = widgets.Dropdown(\n",
    "    options=['TSU', 'NVIDIA SMarthome'],\n",
    "    value='TSU',\n",
    "    description='Pipeline:',\n",
    ")\n",
    "\n",
    "def on_change(change):\n",
    "    if change['type'] == 'change' and change['name'] == 'value':\n",
    "        print(\"changed to %s\" % change['new'])\n",
    "\n",
    "w.observe(on_change)\n",
    "\n",
    "display(w)"
   ]
  },
  {
   "cell_type": "markdown",
   "id": "58612b38",
   "metadata": {
    "pycharm": {
     "name": "#%% md\n"
    }
   },
   "source": [
    "## Nvidida Step Pipeline\n",
    "R6(Story): As a user, I want to ensure selected pipeline's dependencies are changed to ensure the right dependencies are given to the appropriate models so that the selected model will be run"
   ]
  },
  {
   "cell_type": "code",
   "execution_count": null,
   "id": "954b4e04",
   "metadata": {
    "pycharm": {
     "name": "#%%\n"
    },
    "scrolled": true
   },
   "outputs": [],
   "source": [
    "%cd ./NVIDIA-STEP-MODEL/STEP"
   ]
  },
  {
   "cell_type": "code",
   "execution_count": null,
   "id": "72509944",
   "metadata": {},
   "outputs": [],
   "source": [
    "!pip install ninja"
   ]
  },
  {
   "cell_type": "code",
   "execution_count": null,
   "id": "680f76eb",
   "metadata": {},
   "outputs": [],
   "source": [
    "!pip install cuda-python"
   ]
  },
  {
   "cell_type": "code",
   "execution_count": null,
   "id": "bb8801f2",
   "metadata": {},
   "outputs": [],
   "source": [
    "!ipython setup.py build develop"
   ]
  },
  {
   "cell_type": "code",
   "execution_count": null,
   "id": "e176b4f7",
   "metadata": {},
   "outputs": [],
   "source": [
    "!python demo.py"
   ]
  },
  {
   "cell_type": "code",
   "execution_count": null,
   "id": "5cdf4465",
   "metadata": {
    "scrolled": true
   },
   "outputs": [],
   "source": [
    "from IPython.display import Image\n",
    "Image(filename='datasets/demo/frames/results/2/frame0000.jpg') "
   ]
  },
  {
   "cell_type": "markdown",
   "id": "2c7d92d7",
   "metadata": {},
   "source": [
    "T05-119 As a user, I want to have multiple dropdowns to select the input (1) dataset (2) video so that I can select the dataset videos easily"
   ]
  },
  {
   "cell_type": "code",
   "execution_count": null,
   "id": "b18281ba",
   "metadata": {},
   "outputs": [],
   "source": [
    "\n",
    "trim_untrim = [] \n",
    "directory = \"./data\"\n",
    "\n",
    "# Select from the list of model in the pipeline/models folder\n",
    "for x in os.listdir(directory): \n",
    "    trim_untrim += [x]\n",
    "\n",
    "# Widgets\n",
    "confirmButton = widgets.Button(\n",
    "    description='Confirm',\n",
    "    disabled=False,\n",
    "    button_style='success',\n",
    "    icon='check'\n",
    ")\n",
    "\n",
    "trimUntrimDropdown = widgets.Dropdown(\n",
    "    options=trim_untrim,\n",
    "    description='Trim or Untrim:')\n",
    "# Function on what happen when confirm is been click.\n",
    "def selectTrimSet(b):\n",
    "    #print(\"B: \", b)\n",
    "    global trimValue\n",
    "    trimValue = trimUntrimDropdown.value\n",
    "    print(\"Selected: \" , trimUntrimDropdown.value)\n",
    "\n",
    "confirmButton.on_click(selectTrimSet)\n",
    "trimBox = widgets.VBox([widgets.HBox([trimUntrimDropdown, confirmButton])])\n",
    "trimBox\n",
    "\n",
    "\n"
   ]
  },
  {
   "cell_type": "code",
   "execution_count": null,
   "id": "16aa4870",
   "metadata": {},
   "outputs": [],
   "source": [
    "\n",
    "directory = './data' + '/'+ trimValue\n",
    "print(\"Current File Path: \", directory)\n",
    "data_set = os.listdir(directory)\n",
    "\n",
    "# Select from the list of model in the pipeline/models folder\n",
    "#directory = directory + '/'+ trimUntrimDropdown.value\n",
    "\n",
    "\n",
    "# Widgets\n",
    "confirm1Button = widgets.Button(\n",
    "    description='Confirm',\n",
    "    disabled=False,\n",
    "    button_style='success',\n",
    "    icon='check'\n",
    ")\n",
    "\n",
    "datasetDropdown = widgets.Dropdown(\n",
    "    options=data_set,\n",
    "    description='Dataset:')\n",
    "# Function on what happen when confirm is been click.\n",
    "def selectDataSet(b):\n",
    "    global datasetValue\n",
    "    datasetValue = datasetDropdown.value\n",
    "    print(\"Selected: \" , datasetDropdown.value)\n",
    "\n",
    "confirm1Button.on_click(selectDataSet)\n",
    "datasetBox = widgets.VBox([widgets.HBox([datasetDropdown, confirm1Button])])\n",
    "datasetBox\n"
   ]
  },
  {
   "cell_type": "code",
   "execution_count": null,
   "id": "c3fef155",
   "metadata": {},
   "outputs": [],
   "source": [
    "print(datasetValue)\n",
    "directory = './data' + '/'+ trimValue + '/'+ datasetValue\n",
    "print(\"Current File Path: \", directory)\n",
    "data_set = os.listdir(directory)\n",
    "\n",
    "# Select from the list of model in the pipeline/models folder\n",
    "#directory = directory + '/'+ trimUntrimDropdown.value\n",
    "\n",
    "\n",
    "# Widgets\n",
    "confirm2Button = widgets.Button(\n",
    "    description='Confirm',\n",
    "    disabled=False,\n",
    "    button_style='success',\n",
    "    icon='check'\n",
    ")\n",
    "\n",
    "inputDropdown = widgets.Dropdown(\n",
    "    options=data_set,\n",
    "    value=data_set[0],\n",
    "    description='Dataset:')\n",
    "# Function on what happen when confirm is been click.\n",
    "def selectInputSet(b):\n",
    "    global inputValue\n",
    "    inputValue = inputDropdown.value\n",
    "    print(\"Selected: \" , inputDropdown.value)\n",
    "\n",
    "confirm2Button.on_click(selectInputSet)\n",
    "inputBox = widgets.VBox([widgets.HBox([inputDropdown, confirm2Button])])\n",
    "inputBox"
   ]
  },
  {
   "cell_type": "code",
   "execution_count": null,
   "id": "e388f88f",
   "metadata": {},
   "outputs": [],
   "source": []
  }
 ],
 "metadata": {
  "kernelspec": {
   "display_name": "Python 3 (ipykernel)",
   "language": "python",
   "name": "python3"
  },
  "language_info": {
   "codemirror_mode": {
    "name": "ipython",
    "version": 3
   },
   "file_extension": ".py",
   "mimetype": "text/x-python",
   "name": "python",
   "nbconvert_exporter": "python",
   "pygments_lexer": "ipython3",
   "version": "3.9.12"
  },
  "vscode": {
   "interpreter": {
    "hash": "6d41985e808d4de29e30cfccb1ac63130fa35729d6f17b6b48b8c479c2660857"
   }
  }
 },
 "nbformat": 4,
 "nbformat_minor": 5
}
