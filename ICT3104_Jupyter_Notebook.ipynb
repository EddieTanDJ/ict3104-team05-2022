{
 "cells": [
  {
   "cell_type": "markdown",
   "id": "54d5890e",
   "metadata": {
    "pycharm": {
     "name": "#%% md\n"
    }
   },
   "source": [
    "# Setup"
   ]
  },
  {
   "cell_type": "code",
   "execution_count": null,
   "id": "0523a253",
   "metadata": {
    "pycharm": {
     "name": "#%%\n"
    }
   },
   "outputs": [],
   "source": [
    "# Run this locally. Binder dont need run.\n",
    "!conda env create -n ict3104 --file environment.yml"
   ]
  },
  {
   "cell_type": "code",
   "execution_count": null,
   "id": "8b937be5",
   "metadata": {
    "pycharm": {
     "is_executing": true,
     "name": "#%%\n"
    }
   },
   "outputs": [],
   "source": [
    "# Run this locally. Binder dont need run.\n",
    "! conda activate ict3104 && .\\venv\\Scripts\\Activate && pip install -r requirements.txt && pip install torch==1.10.1+cu113 torchvision==0.11.2+cu113 torchaudio==0.10.1 -f https://download.pytorch.org/whl/torch_stable.html"
   ]
  },
  {
   "cell_type": "markdown",
   "id": "54b3923a",
   "metadata": {
    "pycharm": {
     "name": "#%% md\n"
    }
   },
   "source": [
    "# Example Use"
   ]
  },
  {
   "cell_type": "code",
   "execution_count": null,
   "id": "b304c1cf",
   "metadata": {
    "pycharm": {
     "is_executing": true,
     "name": "#%%\n"
    }
   },
   "outputs": [],
   "source": [
    "!cd ./pipeline && python test.py"
   ]
  },
  {
   "cell_type": "markdown",
   "id": "6c205650",
   "metadata": {},
   "source": [
    "# Import libraries"
   ]
  },
  {
   "cell_type": "code",
   "execution_count": null,
   "id": "ae75fb79",
   "metadata": {},
   "outputs": [],
   "source": [
    "# Upload File using ipyfilechooser library\n",
    "from ipyfilechooser import FileChooser\n",
    "# Get the root directory of the project\n",
    "from pyprojroot import here\n",
    "# Copy File\n",
    "import shutil\n",
    "# Widget Packages\n",
    "import ipywidgets as widgets\n",
    "# In case widget extension not working\n",
    "# jupyter nbextension enable --py widgetsnbextension\n",
    "import os"
   ]
  },
  {
   "cell_type": "markdown",
   "id": "49ab2033",
   "metadata": {
    "pycharm": {
     "name": "#%% md\n"
    }
   },
   "source": [
    "# Apply Module"
   ]
  },
  {
   "cell_type": "markdown",
   "id": "ed518c9e",
   "metadata": {},
   "source": [
    "# Video Upload using ipyfilechooser"
   ]
  },
  {
   "cell_type": "code",
   "execution_count": null,
   "id": "7459f1aa",
   "metadata": {},
   "outputs": [],
   "source": [
    "# from ipyfilechooser import FileChooser\n",
    "starting_directory = './data'\n",
    "chooser = FileChooser(starting_directory)\n",
    "display(chooser)"
   ]
  },
  {
   "cell_type": "markdown",
   "id": "ffe9761f",
   "metadata": {},
   "source": [
    "# Upload Function to upload file to the data folder"
   ]
  },
  {
   "cell_type": "code",
   "execution_count": null,
   "id": "31cdc476",
   "metadata": {},
   "outputs": [],
   "source": [
    "# Upload Function\n",
    "# from pyprojroot import here\n",
    "# import shutil\n",
    "print(chooser.selected)\n",
    "source = chooser.selected\n",
    "# Source path\n",
    "# Destination path\n",
    "destination = (here(\"./data\"))\n",
    " \n",
    "# Copy file from the selected path\n",
    "try:\n",
    "    shutil.copy(source, destination)\n",
    "    print(\"File copied successfully.\")\n",
    " \n",
    "# If source and destination are same\n",
    "except shutil.SameFileError:\n",
    "    print(\"Source and destination represents the same file.\")\n",
    " \n",
    "# If destination is a directory.\n",
    "except IsADirectoryError:\n",
    "    print(\"Destination is a directory.\")\n",
    " \n",
    "# If there is any permission issue\n",
    "except PermissionError:\n",
    "    print(\"Permission denied.\")\n",
    " \n",
    "# For other errors\n",
    "except:\n",
    "    print(\"Error occurred while copying file.\")"
   ]
  },
  {
   "cell_type": "code",
   "execution_count": null,
   "id": "09127163",
   "metadata": {},
   "outputs": [],
   "source": [
    "print(chooser.selected)"
   ]
  },
  {
   "cell_type": "markdown",
   "id": "d326ce9c",
   "metadata": {},
   "source": [
    "# Video Display"
   ]
  },
  {
   "cell_type": "code",
   "execution_count": null,
   "id": "8afb7c95",
   "metadata": {},
   "outputs": [],
   "source": [
    "from IPython.display import Video\n",
    "full_path = chooser.selected\n",
    "Video(full_path, embed=True, width=540)"
   ]
  },
  {
   "cell_type": "code",
   "execution_count": null,
   "id": "380b848b",
   "metadata": {},
   "outputs": [],
   "source": [
    "import os\n",
    "from ipywidgets import interact, Dropdown\n",
    "\n",
    "videoList = [] \n",
    "\n",
    "for x in os.listdir(\"./data/untrim/RGB\"): \n",
    "    videoList += [x]\n",
    "# print(videoList)\n",
    "\n",
    "videos = Dropdown(options = videoList) \n",
    "\n",
    "# using a list as a means to extract variable defined in python function.\n",
    "selected_video = []\n",
    " \n",
    "@interact(video = videos) \n",
    "def print_city(video): \n",
    "    print(video)\n",
    "    # list shall only contain one element, that is the current selected video.\n",
    "    selected_video.clear()\n",
    "    selected_video.append(str(video))\n"
   ]
  },
  {
   "cell_type": "code",
   "execution_count": null,
   "id": "00648769",
   "metadata": {},
   "outputs": [],
   "source": [
    "from IPython.display import Video\n",
    "full_path = chooser.selected\n",
    "Video(full_path, embed=True, width=540)"
   ]
  },
  {
   "cell_type": "markdown",
   "id": "67463a88",
   "metadata": {},
   "source": [
    "# Selection"
   ]
  },
  {
   "cell_type": "code",
   "execution_count": null,
   "id": "263f4135",
   "metadata": {},
   "outputs": [],
   "source": [
    "\"\"\"\n",
    "Select the pipeline in dropdown menu\n",
    "\"\"\"\n",
    "pipelines = ['ToyotaHome', 'Nvidia']\n",
    "\n",
    "# Widgets\n",
    "confirmButton = widgets.Button(\n",
    "    description='Confirm',\n",
    "    disabled=False,\n",
    "    button_style='success',\n",
    "    icon='check'\n",
    ")\n",
    "pipelinesMenu = widgets.Dropdown(\n",
    "    options=pipelines,\n",
    "    value=pipelines[0],\n",
    "    description='Select your pipeline:')\n",
    "# Function\n",
    "def selectWidgetSet(b):\n",
    "    print(\"Selected: \" , pipelinesMenu.value)\n",
    "\n",
    "confirmButton.on_click(selectWidgetSet)\n",
    "pipelineBox = widgets.VBox([widgets.HBox([pipelinesMenu, confirmButton])])\n",
    "pipelineBox"
   ]
  },
  {
   "cell_type": "code",
   "execution_count": null,
   "id": "35da4b5e",
   "metadata": {},
   "outputs": [],
   "source": [
    "print(pipelinesMenu)"
   ]
  },
  {
   "cell_type": "code",
   "execution_count": null,
   "id": "6a130558",
   "metadata": {},
   "outputs": [],
   "source": []
  }
 ],
 "metadata": {
  "kernelspec": {
   "display_name": "venv",
   "language": "python",
   "name": "venv"
  },
  "language_info": {
   "codemirror_mode": {
    "name": "ipython",
    "version": 3
   },
   "file_extension": ".py",
   "mimetype": "text/x-python",
   "name": "python",
   "nbconvert_exporter": "python",
   "pygments_lexer": "ipython3",
   "version": "3.8.13"
  },
  "vscode": {
   "interpreter": {
    "hash": "6d41985e808d4de29e30cfccb1ac63130fa35729d6f17b6b48b8c479c2660857"
   }
  }
 },
 "nbformat": 4,
 "nbformat_minor": 5
}
