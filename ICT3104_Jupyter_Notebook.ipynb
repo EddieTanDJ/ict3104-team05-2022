{
 "cells": [
  {
   "cell_type": "markdown",
   "id": "6c205650",
   "metadata": {
    "pycharm": {
     "name": "#%% md\n"
    }
   },
   "source": [
    "# Import libraries"
   ]
  },
  {
   "cell_type": "code",
   "execution_count": 4,
   "id": "ae75fb79",
   "metadata": {
    "pycharm": {
     "name": "#%%\n"
    }
   },
   "outputs": [],
   "source": [
    "# Upload File using ipyfilechooser library\n",
    "from ipyfilechooser import FileChooser\n",
    "# Get the root directory of the project\n",
    "from pyprojroot import here\n",
    "# Copy File\n",
    "import shutil\n",
    "# Widget Packages\n",
    "import ipywidgets as widgets\n",
    "# In case widget extension not working\n",
    "# jupyter nbextension enable --py widgetsnbextension\n",
    "import os"
   ]
  },
  {
   "cell_type": "markdown",
   "id": "b68b99c7",
   "metadata": {
    "pycharm": {
     "name": "#%% md\n"
    }
   },
   "source": [
    "# Data Exploration Section\n",
    "R2 (Epic): As a user, I want a \"Data Exploration\" section in the notebook so that I can load and display video data from the TSU project."
   ]
  },
  {
   "cell_type": "markdown",
   "id": "ed518c9e",
   "metadata": {
    "pycharm": {
     "name": "#%% md\n"
    }
   },
   "source": [
    "## Video Upload / Choose using ipyfilechooser\n",
    "R2 (Story): As a user, I want to upload/choose files from the data folder through an appropriate UI component (E.g. Browse files) in a notebook code cell so that I can pick and choose the video data I would like to process"
   ]
  },
  {
   "cell_type": "code",
   "execution_count": 5,
   "id": "7459f1aa",
   "metadata": {
    "pycharm": {
     "name": "#%%\n"
    }
   },
   "outputs": [],
   "source": [
    "# from ipyfilechooser import FileChooser\n",
    "def videoselectorinput():\n",
    "    starting_directory = './data'\n",
    "    chooser = FileChooser(starting_directory)\n",
    "    display(chooser)\n",
    "    return chooser\n",
    "    \n",
    "def videoselectoroutput():\n",
    "    starting_directory = './pipeline/video/output'\n",
    "    chooser = FileChooser(starting_directory)\n",
    "    display(chooser)\n",
    "    return chooser"
   ]
  },
  {
   "cell_type": "code",
   "execution_count": 6,
   "id": "fa9251f7",
   "metadata": {},
   "outputs": [
    {
     "data": {
      "text/plain": "FileChooser(path='C:\\Users\\Work\\Desktop\\Projects\\ict3104-team05-2022\\data', filename='', title='', show_hidden…",
      "application/vnd.jupyter.widget-view+json": {
       "version_major": 2,
       "version_minor": 0,
       "model_id": "a50ae3be5bee4bdd9b7d111ff58e737c"
      }
     },
     "metadata": {},
     "output_type": "display_data"
    }
   ],
   "source": [
    "video = videoselectorinput()"
   ]
  },
  {
   "cell_type": "markdown",
   "id": "ffe9761f",
   "metadata": {
    "pycharm": {
     "name": "#%% md\n"
    }
   },
   "source": [
    "## Upload selected file to the data folder (If needed)"
   ]
  },
  {
   "cell_type": "code",
   "execution_count": 7,
   "id": "31cdc476",
   "metadata": {
    "pycharm": {
     "name": "#%%\n"
    }
   },
   "outputs": [
    {
     "name": "stdout",
     "output_type": "stream",
     "text": [
      "None\n",
      "Error occurred while copying file.\n"
     ]
    }
   ],
   "source": [
    "# Upload Function\n",
    "# from pyprojroot import here\n",
    "# import shutil\n",
    "def upload(video):\n",
    "    print(video.selected)\n",
    "    source = video.selected\n",
    "    # Source path\n",
    "    # Destination path\n",
    "    destination = (here(\"./data\"))\n",
    "\n",
    "    # Copy file from the selected path\n",
    "    try:\n",
    "        shutil.copy(source, destination)\n",
    "        print(\"File copied successfully.\")\n",
    "\n",
    "    # If source and destination are same\n",
    "    except shutil.SameFileError:\n",
    "        print(\"Source and destination represents the same file.\")\n",
    "\n",
    "    # If destination is a directory.\n",
    "    except IsADirectoryError:\n",
    "        print(\"Destination is a directory.\")\n",
    "\n",
    "    # If there is any permission issue\n",
    "    except PermissionError:\n",
    "        print(\"Permission denied.\")\n",
    "\n",
    "    # For other errors\n",
    "    except:\n",
    "        print(\"Error occurred while copying file.\")\n",
    "\n",
    "upload(video)"
   ]
  },
  {
   "cell_type": "markdown",
   "id": "6cd190ad",
   "metadata": {
    "pycharm": {
     "name": "#%% md\n"
    }
   },
   "source": [
    "## Video Playback\n",
    "R2 (Story): As a user, I want to see video playback of the chosen video file in an output cell so that I can check if it is the right video data I would like to process"
   ]
  },
  {
   "cell_type": "code",
   "execution_count": 8,
   "id": "a7ce6882",
   "metadata": {
    "pycharm": {
     "name": "#%%\n"
    }
   },
   "outputs": [
    {
     "data": {
      "text/plain": "FileChooser(path='C:\\Users\\Work\\Desktop\\Projects\\ict3104-team05-2022\\data', filename='', title='', show_hidden…",
      "application/vnd.jupyter.widget-view+json": {
       "version_major": 2,
       "version_minor": 0,
       "model_id": "59aae2f730fa4feaad169dfc9db74a7e"
      }
     },
     "metadata": {},
     "output_type": "display_data"
    }
   ],
   "source": [
    "# Select Video\n",
    "video = videoselectorinput()"
   ]
  },
  {
   "cell_type": "code",
   "execution_count": 9,
   "id": "ce0d5e2f",
   "metadata": {},
   "outputs": [
    {
     "name": "stdout",
     "output_type": "stream",
     "text": [
      "None\n",
      "None\n",
      "None\n"
     ]
    }
   ],
   "source": [
    "print(video.selected)\n",
    "print(video.selected_filename)\n",
    "print(video.selected_path)"
   ]
  },
  {
   "cell_type": "code",
   "execution_count": 10,
   "id": "09127163",
   "metadata": {
    "pycharm": {
     "name": "#%%\n"
    }
   },
   "outputs": [
    {
     "ename": "TypeError",
     "evalue": "a bytes-like object is required, not 'NoneType'",
     "output_type": "error",
     "traceback": [
      "\u001B[1;31m---------------------------------------------------------------------------\u001B[0m",
      "\u001B[1;31mTypeError\u001B[0m                                 Traceback (most recent call last)",
      "File \u001B[1;32m~\\Desktop\\Projects\\ict3104-team05-2022\\venv\\lib\\site-packages\\IPython\\core\\formatters.py:343\u001B[0m, in \u001B[0;36mBaseFormatter.__call__\u001B[1;34m(self, obj)\u001B[0m\n\u001B[0;32m    341\u001B[0m     method \u001B[38;5;241m=\u001B[39m get_real_method(obj, \u001B[38;5;28mself\u001B[39m\u001B[38;5;241m.\u001B[39mprint_method)\n\u001B[0;32m    342\u001B[0m     \u001B[38;5;28;01mif\u001B[39;00m method \u001B[38;5;129;01mis\u001B[39;00m \u001B[38;5;129;01mnot\u001B[39;00m \u001B[38;5;28;01mNone\u001B[39;00m:\n\u001B[1;32m--> 343\u001B[0m         \u001B[38;5;28;01mreturn\u001B[39;00m \u001B[43mmethod\u001B[49m\u001B[43m(\u001B[49m\u001B[43m)\u001B[49m\n\u001B[0;32m    344\u001B[0m     \u001B[38;5;28;01mreturn\u001B[39;00m \u001B[38;5;28;01mNone\u001B[39;00m\n\u001B[0;32m    345\u001B[0m \u001B[38;5;28;01melse\u001B[39;00m:\n",
      "File \u001B[1;32m~\\Desktop\\Projects\\ict3104-team05-2022\\venv\\lib\\site-packages\\IPython\\core\\display.py:1188\u001B[0m, in \u001B[0;36mVideo._repr_html_\u001B[1;34m(self)\u001B[0m\n\u001B[0;32m   1186\u001B[0m            b64_video \u001B[38;5;241m=\u001B[39m video\n\u001B[0;32m   1187\u001B[0m        \u001B[38;5;28;01melse\u001B[39;00m:\n\u001B[1;32m-> 1188\u001B[0m            b64_video \u001B[38;5;241m=\u001B[39m \u001B[43mb2a_base64\u001B[49m\u001B[43m(\u001B[49m\u001B[43mvideo\u001B[49m\u001B[43m)\u001B[49m\u001B[38;5;241m.\u001B[39mdecode(\u001B[38;5;124m'\u001B[39m\u001B[38;5;124mascii\u001B[39m\u001B[38;5;124m'\u001B[39m)\u001B[38;5;241m.\u001B[39mrstrip()\n\u001B[0;32m   1190\u001B[0m        output \u001B[38;5;241m=\u001B[39m \u001B[38;5;124m\"\"\"\u001B[39m\u001B[38;5;124m<video \u001B[39m\u001B[38;5;132;01m{0}\u001B[39;00m\u001B[38;5;124m \u001B[39m\u001B[38;5;132;01m{1}\u001B[39;00m\u001B[38;5;124m \u001B[39m\u001B[38;5;132;01m{2}\u001B[39;00m\u001B[38;5;124m>\u001B[39m\n\u001B[0;32m   1191\u001B[0m \u001B[38;5;124m<source src=\u001B[39m\u001B[38;5;124m\"\u001B[39m\u001B[38;5;124mdata:\u001B[39m\u001B[38;5;132;01m{3}\u001B[39;00m\u001B[38;5;124m;base64,\u001B[39m\u001B[38;5;132;01m{4}\u001B[39;00m\u001B[38;5;124m\"\u001B[39m\u001B[38;5;124m type=\u001B[39m\u001B[38;5;124m\"\u001B[39m\u001B[38;5;132;01m{3}\u001B[39;00m\u001B[38;5;124m\"\u001B[39m\u001B[38;5;124m>\u001B[39m\n\u001B[0;32m   1192\u001B[0m \u001B[38;5;124mYour browser does not support the video tag.\u001B[39m\n\u001B[0;32m   1193\u001B[0m \u001B[38;5;124m</video>\u001B[39m\u001B[38;5;124m\"\"\"\u001B[39m\u001B[38;5;241m.\u001B[39mformat(\u001B[38;5;28mself\u001B[39m\u001B[38;5;241m.\u001B[39mhtml_attributes, width, height, mimetype, b64_video)\n\u001B[0;32m   1194\u001B[0m        \u001B[38;5;28;01mreturn\u001B[39;00m output\n",
      "\u001B[1;31mTypeError\u001B[0m: a bytes-like object is required, not 'NoneType'"
     ]
    },
    {
     "data": {
      "text/plain": "<IPython.core.display.Video object>"
     },
     "execution_count": 10,
     "metadata": {},
     "output_type": "execute_result"
    }
   ],
   "source": [
    "from IPython.display import Video\n",
    "\n",
    "full_path = video.selected\n",
    "Video(full_path, embed=True, width=540, html_attributes=\"controls muted autoplay\")"
   ]
  },
  {
   "cell_type": "markdown",
   "id": "51191d83",
   "metadata": {
    "pycharm": {
     "name": "#%% md\n"
    }
   },
   "source": [
    "# Inference Section\n",
    "\n",
    "R3 (Epic): As a user, I want to have an \"Inference\" section in the notebook so that I can perform inference using a pretrained HOI ML model based on the TSU project."
   ]
  },
  {
   "cell_type": "markdown",
   "id": "e90b56cd",
   "metadata": {
    "pycharm": {
     "name": "#%% md\n"
    }
   },
   "source": [
    "## Load a pretrain model\n",
    "R3 (Story): As a user, I want to load a pre-trained model using an appropriate UI component so that I can easily load the model."
   ]
  },
  {
   "cell_type": "code",
   "execution_count": 11,
   "id": "263f4135",
   "metadata": {
    "pycharm": {
     "name": "#%%\n"
    }
   },
   "outputs": [
    {
     "data": {
      "text/plain": "VBox(children=(HBox(children=(Dropdown(description='Model:', options=('PDAN_TSU_RGB',), value='PDAN_TSU_RGB'),…",
      "application/vnd.jupyter.widget-view+json": {
       "version_major": 2,
       "version_minor": 0,
       "model_id": "7732eacf9c4741b2975eead2598c10c9"
      }
     },
     "execution_count": 11,
     "metadata": {},
     "output_type": "execute_result"
    }
   ],
   "source": [
    "\"\"\"\n",
    "Select the model\n",
    "\"\"\"\n",
    "modelList = [] \n",
    "\n",
    "# Select from the list of model in the pipeline/models folder\n",
    "for x in os.listdir(\"./pipeline/models\"): \n",
    "    modelList += [x]\n",
    "\n",
    "# Widgets\n",
    "confirmButton = widgets.Button(\n",
    "    description='Confirm',\n",
    "    disabled=False,\n",
    "    button_style='success',\n",
    "    icon='check'\n",
    ")\n",
    "modelDropdown = widgets.Dropdown(\n",
    "    options=modelList,\n",
    "    value=modelList[0],\n",
    "    description='Model:')\n",
    "# Function on what happen when confirm is been click.\n",
    "def selectWidgetSet(b):\n",
    "    print(\"Selected: \" , modelDropdown.value)\n",
    "\n",
    "confirmButton.on_click(selectWidgetSet)\n",
    "modelBox = widgets.VBox([widgets.HBox([modelDropdown, confirmButton])])\n",
    "modelBox"
   ]
  },
  {
   "cell_type": "code",
   "execution_count": 12,
   "id": "6e4bd5cd",
   "metadata": {},
   "outputs": [
    {
     "name": "stdout",
     "output_type": "stream",
     "text": [
      "PDAN_TSU_RGB\n"
     ]
    }
   ],
   "source": [
    "print(modelDropdown.value)"
   ]
  },
  {
   "cell_type": "markdown",
   "id": "6cad9e82",
   "metadata": {
    "pycharm": {
     "name": "#%% md\n"
    }
   },
   "source": [
    "## Choose Input video to load into TSU Project\n",
    "R3 (Story): As a user, I want to choose an  input video files and other related input files, using an appropriate UI component, from the TSU project so that the system is able to pass the right files to the model."
   ]
  },
  {
   "cell_type": "code",
   "execution_count": 13,
   "id": "63a7e1db",
   "metadata": {
    "pycharm": {
     "name": "#%%\n"
    }
   },
   "outputs": [
    {
     "data": {
      "text/plain": "FileChooser(path='C:\\Users\\Work\\Desktop\\Projects\\ict3104-team05-2022\\data', filename='', title='', show_hidden…",
      "application/vnd.jupyter.widget-view+json": {
       "version_major": 2,
       "version_minor": 0,
       "model_id": "ecffcb4b10c6463f8ef9aaa38836aad9"
      }
     },
     "metadata": {},
     "output_type": "display_data"
    }
   ],
   "source": [
    "# Select Video\n",
    "video = videoselectorinput()"
   ]
  },
  {
   "cell_type": "code",
   "execution_count": 14,
   "id": "8f9321c2",
   "metadata": {},
   "outputs": [
    {
     "name": "stdout",
     "output_type": "stream",
     "text": [
      "None\n",
      "None\n",
      "None\n"
     ]
    }
   ],
   "source": [
    "print(video.selected)\n",
    "print(video.selected_filename)\n",
    "print(video.selected_path)"
   ]
  },
  {
   "cell_type": "markdown",
   "id": "cf8854da",
   "metadata": {
    "pycharm": {
     "name": "#%% md\n"
    }
   },
   "source": [
    "## Run the model \n",
    "R3 (Story): As a user, I want to see inference results in the form of an output video with captions that indicate the current detected activity in each video frame so that I am able to see the inference results clearly on the screen."
   ]
  },
  {
   "cell_type": "code",
   "execution_count": 41,
   "id": "c051be87",
   "metadata": {},
   "outputs": [
    {
     "name": "stdout",
     "output_type": "stream",
     "text": [
      "PDAN_TSU_RGB\n",
      "None\n",
      "None\n",
      "./models/PDAN_TSU_RGB\n"
     ]
    }
   ],
   "source": [
    "# Testing\n",
    "!echo $modelDropdown.value\n",
    "!echo $video.selected_filename\n",
    "!echo $video.selected\n",
    "# Get the directory of the loadmodel\n",
    "loadmodel = './models/' + modelDropdown.value\n",
    "!echo $loadmodel"
   ]
  },
  {
   "cell_type": "code",
   "execution_count": 55,
   "id": "69b5f2d8",
   "metadata": {},
   "outputs": [
    {
     "name": "stdout",
     "output_type": "stream",
     "text": [
      "Random_SEED!!!: 0\n",
      "PDAN_TSU_RGB\n",
      "batch_size: 2\n",
      "cuda_avail True\n",
      "RGB mode ./data/RGB\n",
      "Random_SEED!!!: 0\n",
      "Random_SEED!!!: 0\n",
      "you are processing PDAN_TSU_RGB\n",
      "loaded ./models/PDAN_TSU_RGB\n",
      "pytorch_total_params 5804083\n",
      "num_channel: 512 input_channnel: 1024 num_classes: 51\n",
      "0.1\n",
      "False\n",
      "val-map: tensor(32.7511)\n",
      "tensor([43.9296, 50.4119, 45.0844, 45.3014, 40.5055, 43.5343, 33.3114, 30.4521,\n",
      "        40.9460, 20.7510, 17.2716,  5.1264,  0.7856, 38.4160, 37.8608,  3.3669,\n",
      "        22.8392, 56.7582,  2.8444, 72.0715, 33.0098, 52.9259, 52.4670,  3.2723,\n",
      "         1.6550, 63.7364, 37.0699, 52.0327, 60.0214, 15.2961,  6.6451,  0.8588,\n",
      "        39.0778,  2.8659, 48.3819, 89.2970, 37.7782, 15.1304, 23.2170,  8.0989,\n",
      "        70.3756, 32.7410, 17.4085, 64.6966,  2.0250, 76.3004, 65.2976, 32.5429,\n",
      "        11.6490,  2.2110,  0.6536])\n"
     ]
    },
    {
     "name": "stderr",
     "output_type": "stream",
     "text": [
      "\n",
      "  0%|          | 0/536 [00:00<?, ?it/s]\n",
      "  4%|4         | 22/536 [00:00<00:02, 213.69it/s]\n",
      "  8%|8         | 44/536 [00:00<00:03, 145.93it/s]\n",
      " 12%|#1        | 64/536 [00:00<00:02, 160.14it/s]\n",
      " 15%|#5        | 81/536 [00:00<00:03, 138.71it/s]\n",
      " 19%|#8        | 100/536 [00:00<00:02, 146.86it/s]\n",
      " 22%|##2       | 118/536 [00:00<00:02, 153.83it/s]\n",
      " 25%|##5       | 134/536 [00:00<00:02, 135.84it/s]\n",
      " 29%|##8       | 154/536 [00:01<00:02, 147.04it/s]\n",
      " 32%|###1      | 170/536 [00:01<00:02, 128.18it/s]\n",
      " 34%|###4      | 184/536 [00:01<00:02, 130.60it/s]\n",
      " 37%|###6      | 198/536 [00:01<00:03, 107.26it/s]\n",
      " 40%|###9      | 214/536 [00:01<00:02, 118.60it/s]\n",
      " 42%|####2     | 227/536 [00:01<00:02, 119.56it/s]\n",
      " 45%|####4     | 240/536 [00:01<00:02, 106.58it/s]\n",
      " 48%|####7     | 255/536 [00:01<00:02, 116.26it/s]\n",
      " 50%|#####     | 268/536 [00:02<00:02, 115.64it/s]\n",
      " 53%|#####3    | 285/536 [00:02<00:01, 126.46it/s]\n",
      " 56%|#####5    | 299/536 [00:02<00:01, 126.87it/s]\n",
      " 58%|#####8    | 312/536 [00:02<00:01, 121.78it/s]\n",
      " 61%|######1   | 328/536 [00:02<00:01, 126.23it/s]\n",
      " 64%|######3   | 341/536 [00:02<00:01, 120.87it/s]\n",
      " 66%|######6   | 354/536 [00:02<00:01, 107.04it/s]\n",
      " 70%|######9   | 374/536 [00:02<00:01, 128.88it/s]\n",
      " 73%|#######2  | 391/536 [00:03<00:01, 134.99it/s]\n",
      " 76%|#######5  | 405/536 [00:03<00:01, 125.56it/s]\n",
      " 78%|#######7  | 418/536 [00:03<00:01, 112.99it/s]\n",
      " 81%|########  | 432/536 [00:03<00:00, 118.26it/s]\n",
      " 83%|########3 | 445/536 [00:03<00:00, 119.33it/s]\n",
      " 85%|########5 | 458/536 [00:03<00:00, 116.20it/s]\n",
      " 90%|########9 | 482/536 [00:03<00:00, 148.66it/s]\n",
      " 93%|#########3| 501/536 [00:03<00:00, 157.01it/s]\n",
      " 98%|#########7| 524/536 [00:03<00:00, 176.09it/s]\n",
      "100%|##########| 536/536 [00:04<00:00, 132.61it/s]\n",
      "\n",
      "  0%|          | 0/536 [00:00<?, ?it/s]\n",
      "  4%|4         | 23/536 [00:00<00:02, 226.60it/s]\n",
      " 10%|#         | 56/536 [00:00<00:01, 266.88it/s]\n",
      " 16%|#5        | 84/536 [00:00<00:01, 257.30it/s]\n",
      " 21%|##        | 110/536 [00:00<00:01, 242.84it/s]\n",
      " 25%|##5       | 135/536 [00:00<00:01, 243.67it/s]\n",
      " 30%|##9       | 160/536 [00:00<00:01, 215.88it/s]\n",
      " 34%|###4      | 183/536 [00:00<00:02, 170.82it/s]\n",
      " 38%|###7      | 202/536 [00:00<00:01, 171.52it/s]\n",
      " 44%|####4     | 238/536 [00:01<00:01, 211.89it/s]\n",
      " 52%|#####1    | 277/536 [00:01<00:01, 255.40it/s]\n",
      " 58%|#####7    | 310/536 [00:01<00:00, 264.96it/s]\n",
      " 63%|######3   | 338/536 [00:01<00:00, 224.56it/s]\n",
      " 68%|######7   | 363/536 [00:01<00:00, 224.35it/s]\n",
      " 72%|#######2  | 387/536 [00:01<00:00, 203.14it/s]\n",
      " 81%|########  | 434/536 [00:01<00:00, 261.30it/s]\n",
      " 88%|########7 | 471/536 [00:01<00:00, 286.25it/s]\n",
      " 94%|#########3| 502/536 [00:02<00:00, 232.85it/s]\n",
      " 99%|#########8| 528/536 [00:02<00:00, 219.13it/s]\n",
      "100%|##########| 536/536 [00:02<00:00, 229.17it/s]\n",
      "C:\\Users\\Work\\Desktop\\Projects\\ict3104-team05-2022\\pipeline\\models.py:88: UserWarning: nn.init.kaiming_normal is now deprecated in favor of nn.init.kaiming_normal_.\n",
      "  init.kaiming_normal(self.key_conv.weight, mode='fan_out')\n",
      "C:\\Users\\Work\\Desktop\\Projects\\ict3104-team05-2022\\pipeline\\models.py:89: UserWarning: nn.init.kaiming_normal is now deprecated in favor of nn.init.kaiming_normal_.\n",
      "  init.kaiming_normal(self.value_conv.weight, mode='fan_out')\n",
      "C:\\Users\\Work\\Desktop\\Projects\\ict3104-team05-2022\\pipeline\\models.py:90: UserWarning: nn.init.kaiming_normal is now deprecated in favor of nn.init.kaiming_normal_.\n",
      "  init.kaiming_normal(self.query_conv.weight, mode='fan_out')\n",
      "C:\\Users\\Work\\Desktop\\Projects\\ict3104-team05-2022\\pipeline\\models.py:91: UserWarning: nn.init.normal is now deprecated in favor of nn.init.normal_.\n",
      "  init.normal(self.rel_t, 0, 1)\n",
      "C:\\Users\\Work\\Desktop\\Projects\\ict3104-team05-2022\\venv\\lib\\site-packages\\torch\\nn\\_reduction.py:42: UserWarning: size_average and reduce args will be deprecated, please use reduction='none' instead.\n",
      "  warnings.warn(warning.format(ret))\n",
      "C:\\Users\\Work\\Desktop\\Projects\\ict3104-team05-2022\\venv\\lib\\site-packages\\torch\\nn\\functional.py:1806: UserWarning: nn.functional.sigmoid is deprecated. Use torch.sigmoid instead.\n",
      "  warnings.warn(\"nn.functional.sigmoid is deprecated. Use torch.sigmoid instead.\")\n",
      "C:\\Users\\Work\\Desktop\\Projects\\ict3104-team05-2022\\venv\\lib\\site-packages\\torch\\nn\\_reduction.py:42: UserWarning: size_average and reduce args will be deprecated, please use reduction='sum' instead.\n",
      "  warnings.warn(warning.format(ret))\n",
      "C:\\Users\\Work\\Desktop\\Projects\\ict3104-team05-2022\\pipeline\\apmeter.py:108: UserWarning: torch.range is deprecated and will be removed in a future release because its behavior is inconsistent with Python's range builtin. Instead, use torch.arange, which produces values in [start, end).\n",
      "  rg = torch.range(1, self.scores.size(0)).float()\n",
      "C:\\Users\\Work\\Desktop\\Projects\\ict3104-team05-2022\\pipeline\\apmeter.py:137: UserWarning: indexing with dtype torch.uint8 is now deprecated, please use a dtype torch.bool instead. (Triggered internally at  ..\\aten\\src\\ATen/native/IndexingUtils.h:30.)\n",
      "  ap[k] = precision[truth.byte()].sum() / max(truth.sum(), 1)\n",
      "Traceback (most recent call last):\n",
      "  File \"test.py\", line 459, in <module>\n",
      "    val_file([(model, 0, dataloaders, optimizer, lr_sched, args.comp_info)], num_epochs=int(args.epoch))\n",
      "  File \"test.py\", line 156, in val_file\n",
      "    for index in range(len(prob_val.get(fileName)[0])):\n",
      "TypeError: 'NoneType' object is not subscriptable\n"
     ]
    }
   ],
   "source": [
    "!cd ../../pipeline && python test.py -input_video_full_path $video.selected -input_video_file $video.selected_filename -model $modelDropdown.value -load_model $loadmodel"
   ]
  },
  {
   "cell_type": "markdown",
   "id": "d326ce9c",
   "metadata": {
    "pycharm": {
     "name": "#%% md\n"
    }
   },
   "source": [
    "## Output Video to view the inference result "
   ]
  },
  {
   "cell_type": "code",
   "execution_count": 52,
   "id": "57b30e04",
   "metadata": {
    "pycharm": {
     "name": "#%%\n"
    }
   },
   "outputs": [
    {
     "ename": "InvalidPathError",
     "evalue": "./pipeline/video/output does not exist",
     "output_type": "error",
     "traceback": [
      "\u001B[1;31m---------------------------------------------------------------------------\u001B[0m",
      "\u001B[1;31mInvalidPathError\u001B[0m                          Traceback (most recent call last)",
      "Cell \u001B[1;32mIn [52], line 2\u001B[0m\n\u001B[0;32m      1\u001B[0m \u001B[38;5;66;03m# Select output video\u001B[39;00m\n\u001B[1;32m----> 2\u001B[0m video \u001B[38;5;241m=\u001B[39m \u001B[43mvideoselectoroutput\u001B[49m\u001B[43m(\u001B[49m\u001B[43m)\u001B[49m\n",
      "Cell \u001B[1;32mIn [5], line 10\u001B[0m, in \u001B[0;36mvideoselectoroutput\u001B[1;34m()\u001B[0m\n\u001B[0;32m      8\u001B[0m \u001B[38;5;28;01mdef\u001B[39;00m \u001B[38;5;21mvideoselectoroutput\u001B[39m():\n\u001B[0;32m      9\u001B[0m     starting_directory \u001B[38;5;241m=\u001B[39m \u001B[38;5;124m'\u001B[39m\u001B[38;5;124m./pipeline/video/output\u001B[39m\u001B[38;5;124m'\u001B[39m\n\u001B[1;32m---> 10\u001B[0m     chooser \u001B[38;5;241m=\u001B[39m \u001B[43mFileChooser\u001B[49m\u001B[43m(\u001B[49m\u001B[43mstarting_directory\u001B[49m\u001B[43m)\u001B[49m\n\u001B[0;32m     11\u001B[0m     display(chooser)\n\u001B[0;32m     12\u001B[0m     \u001B[38;5;28;01mreturn\u001B[39;00m chooser\n",
      "File \u001B[1;32m~\\Desktop\\Projects\\ict3104-team05-2022\\venv\\lib\\site-packages\\ipyfilechooser\\filechooser.py:42\u001B[0m, in \u001B[0;36mFileChooser.__init__\u001B[1;34m(self, path, filename, title, select_desc, change_desc, show_hidden, select_default, dir_icon, dir_icon_append, show_only_dirs, filter_pattern, sandbox_path, layout, **kwargs)\u001B[0m\n\u001B[0;32m     39\u001B[0m \u001B[38;5;28;01mif\u001B[39;00m \u001B[38;5;129;01mnot\u001B[39;00m is_valid_filename(filename):\n\u001B[0;32m     40\u001B[0m     \u001B[38;5;28;01mraise\u001B[39;00m InvalidFileNameError(filename)\n\u001B[1;32m---> 42\u001B[0m \u001B[38;5;28mself\u001B[39m\u001B[38;5;241m.\u001B[39m_default_path \u001B[38;5;241m=\u001B[39m \u001B[43mnormalize_path\u001B[49m\u001B[43m(\u001B[49m\u001B[43mpath\u001B[49m\u001B[43m)\u001B[49m\n\u001B[0;32m     43\u001B[0m \u001B[38;5;28mself\u001B[39m\u001B[38;5;241m.\u001B[39m_default_filename \u001B[38;5;241m=\u001B[39m filename\n\u001B[0;32m     44\u001B[0m \u001B[38;5;28mself\u001B[39m\u001B[38;5;241m.\u001B[39m_selected_path: Optional[\u001B[38;5;28mstr\u001B[39m] \u001B[38;5;241m=\u001B[39m \u001B[38;5;28;01mNone\u001B[39;00m\n",
      "File \u001B[1;32m~\\Desktop\\Projects\\ict3104-team05-2022\\venv\\lib\\site-packages\\ipyfilechooser\\utils.py:137\u001B[0m, in \u001B[0;36mnormalize_path\u001B[1;34m(path)\u001B[0m\n\u001B[0;32m    134\u001B[0m normalized_path \u001B[38;5;241m=\u001B[39m os\u001B[38;5;241m.\u001B[39mpath\u001B[38;5;241m.\u001B[39mrealpath(path)\n\u001B[0;32m    136\u001B[0m \u001B[38;5;28;01mif\u001B[39;00m \u001B[38;5;129;01mnot\u001B[39;00m os\u001B[38;5;241m.\u001B[39mpath\u001B[38;5;241m.\u001B[39misdir(normalized_path):\n\u001B[1;32m--> 137\u001B[0m     \u001B[38;5;28;01mraise\u001B[39;00m InvalidPathError(path)\n\u001B[0;32m    139\u001B[0m \u001B[38;5;28;01mreturn\u001B[39;00m normalized_path\n",
      "\u001B[1;31mInvalidPathError\u001B[0m: ./pipeline/video/output does not exist"
     ]
    }
   ],
   "source": [
    "# Select output video\n",
    "video = videoselectoroutput()"
   ]
  },
  {
   "cell_type": "code",
   "execution_count": 53,
   "id": "015e6a8e",
   "metadata": {},
   "outputs": [
    {
     "name": "stdout",
     "output_type": "stream",
     "text": [
      "None\n",
      "None\n",
      "None\n"
     ]
    }
   ],
   "source": [
    "print(video.selected)\n",
    "print(video.selected_filename)\n",
    "print(video.selected_path)"
   ]
  },
  {
   "cell_type": "code",
   "execution_count": 35,
   "id": "8afb7c95",
   "metadata": {
    "pycharm": {
     "name": "#%%\n"
    }
   },
   "outputs": [
    {
     "ename": "TypeError",
     "evalue": "a bytes-like object is required, not 'NoneType'",
     "output_type": "error",
     "traceback": [
      "\u001B[1;31m---------------------------------------------------------------------------\u001B[0m",
      "\u001B[1;31mTypeError\u001B[0m                                 Traceback (most recent call last)",
      "File \u001B[1;32m~\\Desktop\\Projects\\ict3104-team05-2022\\venv\\lib\\site-packages\\IPython\\core\\formatters.py:343\u001B[0m, in \u001B[0;36mBaseFormatter.__call__\u001B[1;34m(self, obj)\u001B[0m\n\u001B[0;32m    341\u001B[0m     method \u001B[38;5;241m=\u001B[39m get_real_method(obj, \u001B[38;5;28mself\u001B[39m\u001B[38;5;241m.\u001B[39mprint_method)\n\u001B[0;32m    342\u001B[0m     \u001B[38;5;28;01mif\u001B[39;00m method \u001B[38;5;129;01mis\u001B[39;00m \u001B[38;5;129;01mnot\u001B[39;00m \u001B[38;5;28;01mNone\u001B[39;00m:\n\u001B[1;32m--> 343\u001B[0m         \u001B[38;5;28;01mreturn\u001B[39;00m \u001B[43mmethod\u001B[49m\u001B[43m(\u001B[49m\u001B[43m)\u001B[49m\n\u001B[0;32m    344\u001B[0m     \u001B[38;5;28;01mreturn\u001B[39;00m \u001B[38;5;28;01mNone\u001B[39;00m\n\u001B[0;32m    345\u001B[0m \u001B[38;5;28;01melse\u001B[39;00m:\n",
      "File \u001B[1;32m~\\Desktop\\Projects\\ict3104-team05-2022\\venv\\lib\\site-packages\\IPython\\core\\display.py:1188\u001B[0m, in \u001B[0;36mVideo._repr_html_\u001B[1;34m(self)\u001B[0m\n\u001B[0;32m   1186\u001B[0m            b64_video \u001B[38;5;241m=\u001B[39m video\n\u001B[0;32m   1187\u001B[0m        \u001B[38;5;28;01melse\u001B[39;00m:\n\u001B[1;32m-> 1188\u001B[0m            b64_video \u001B[38;5;241m=\u001B[39m \u001B[43mb2a_base64\u001B[49m\u001B[43m(\u001B[49m\u001B[43mvideo\u001B[49m\u001B[43m)\u001B[49m\u001B[38;5;241m.\u001B[39mdecode(\u001B[38;5;124m'\u001B[39m\u001B[38;5;124mascii\u001B[39m\u001B[38;5;124m'\u001B[39m)\u001B[38;5;241m.\u001B[39mrstrip()\n\u001B[0;32m   1190\u001B[0m        output \u001B[38;5;241m=\u001B[39m \u001B[38;5;124m\"\"\"\u001B[39m\u001B[38;5;124m<video \u001B[39m\u001B[38;5;132;01m{0}\u001B[39;00m\u001B[38;5;124m \u001B[39m\u001B[38;5;132;01m{1}\u001B[39;00m\u001B[38;5;124m \u001B[39m\u001B[38;5;132;01m{2}\u001B[39;00m\u001B[38;5;124m>\u001B[39m\n\u001B[0;32m   1191\u001B[0m \u001B[38;5;124m<source src=\u001B[39m\u001B[38;5;124m\"\u001B[39m\u001B[38;5;124mdata:\u001B[39m\u001B[38;5;132;01m{3}\u001B[39;00m\u001B[38;5;124m;base64,\u001B[39m\u001B[38;5;132;01m{4}\u001B[39;00m\u001B[38;5;124m\"\u001B[39m\u001B[38;5;124m type=\u001B[39m\u001B[38;5;124m\"\u001B[39m\u001B[38;5;132;01m{3}\u001B[39;00m\u001B[38;5;124m\"\u001B[39m\u001B[38;5;124m>\u001B[39m\n\u001B[0;32m   1192\u001B[0m \u001B[38;5;124mYour browser does not support the video tag.\u001B[39m\n\u001B[0;32m   1193\u001B[0m \u001B[38;5;124m</video>\u001B[39m\u001B[38;5;124m\"\"\"\u001B[39m\u001B[38;5;241m.\u001B[39mformat(\u001B[38;5;28mself\u001B[39m\u001B[38;5;241m.\u001B[39mhtml_attributes, width, height, mimetype, b64_video)\n\u001B[0;32m   1194\u001B[0m        \u001B[38;5;28;01mreturn\u001B[39;00m output\n",
      "\u001B[1;31mTypeError\u001B[0m: a bytes-like object is required, not 'NoneType'"
     ]
    },
    {
     "data": {
      "text/plain": "<IPython.core.display.Video object>"
     },
     "execution_count": 35,
     "metadata": {},
     "output_type": "execute_result"
    }
   ],
   "source": [
    "from IPython.display import Video\n",
    "\n",
    "full_path = video.selected\n",
    "Video(full_path, embed=True, width=540, html_attributes=\"controls muted autoplay\")"
   ]
  },
  {
   "cell_type": "markdown",
   "id": "67463a88",
   "metadata": {
    "pycharm": {
     "name": "#%% md\n"
    }
   },
   "source": [
    "# Trainng Section\n",
    "R4 (Epic): As a user, I want to create a \"Training\" section in the netbook so that I can train a HOI ML model based on the TSU project."
   ]
  },
  {
   "cell_type": "markdown",
   "id": "5ba99aa7",
   "metadata": {
    "pycharm": {
     "name": "#%% md\n"
    }
   },
   "source": [
    "# Testing Section\n",
    "R5 (Epic): As a user, I want to have a \"Testing\" section in the notebook so that I can evaluate a trained model based on the TSU project."
   ]
  },
  {
   "cell_type": "markdown",
   "id": "5143aac1",
   "metadata": {
    "pycharm": {
     "name": "#%% md\n"
    }
   },
   "source": [
    "# NVIDIA STEP Section\n",
    "R6 (Epic): As a user, I want to able to configure the notebook using appropriate UI elements coupled with the right .py modules so that R2-5 can be performed based on another pipeline, e.g., the NVIDIA STEP pipeline "
   ]
  },
  {
   "cell_type": "markdown",
   "id": "ccd71b6b",
   "metadata": {
    "pycharm": {
     "name": "#%% md\n"
    }
   },
   "source": [
    "## Pipeline Selection\n",
    "R6(Story): As a user, I want to create appropriate UI elements to allow for switching pipelines so that I can test the different models\n",
    "\n"
   ]
  },
  {
   "cell_type": "code",
   "execution_count": 20,
   "id": "205ee99d",
   "metadata": {
    "pycharm": {
     "name": "#%%\n"
    }
   },
   "outputs": [
    {
     "data": {
      "text/plain": "Dropdown(description='Pipeline:', options=('TSU', 'NVIDIA SMarthome'), value='TSU')",
      "application/vnd.jupyter.widget-view+json": {
       "version_major": 2,
       "version_minor": 0,
       "model_id": "a777dfe4a0bb4d89bec7410e938e8482"
      }
     },
     "metadata": {},
     "output_type": "display_data"
    }
   ],
   "source": [
    "w = widgets.Dropdown(\n",
    "    options=['TSU', 'NVIDIA SMarthome'],\n",
    "    value='TSU',\n",
    "    description='Pipeline:',\n",
    ")\n",
    "\n",
    "def on_change(change):\n",
    "    if change['type'] == 'change' and change['name'] == 'value':\n",
    "        print(\"changed to %s\" % change['new'])\n",
    "\n",
    "w.observe(on_change)\n",
    "\n",
    "display(w)"
   ]
  },
  {
   "cell_type": "markdown",
   "id": "58612b38",
   "metadata": {
    "pycharm": {
     "name": "#%% md\n"
    }
   },
   "source": [
    "## Nvidida Step Pipeline\n",
    "R6(Story): As a user, I want to ensure selected pipeline's dependencies are changed to ensure the right dependencies are given to the appropriate models so that the selected model will be run"
   ]
  },
  {
   "cell_type": "code",
   "execution_count": 21,
   "id": "954b4e04",
   "metadata": {
    "pycharm": {
     "name": "#%%\n"
    },
    "scrolled": true
   },
   "outputs": [
    {
     "name": "stdout",
     "output_type": "stream",
     "text": [
      "C:\\Users\\Work\\Desktop\\Projects\\ict3104-team05-2022\\NVIDIA-STEP-MODEL\\STEP\n"
     ]
    }
   ],
   "source": [
    "%cd ./NVIDIA-STEP-MODEL/STEP"
   ]
  },
  {
   "cell_type": "code",
   "execution_count": 22,
   "id": "72509944",
   "metadata": {},
   "outputs": [
    {
     "name": "stdout",
     "output_type": "stream",
     "text": [
      "Collecting ninja\n",
      "  Downloading ninja-1.10.2.3-py2.py3-none-win_amd64.whl (292 kB)\n",
      "Installing collected packages: ninja\n",
      "Successfully installed ninja-1.10.2.3\n"
     ]
    },
    {
     "name": "stderr",
     "output_type": "stream",
     "text": [
      "WARNING: You are using pip version 21.3.1; however, version 22.2.2 is available.\n",
      "You should consider upgrading via the 'C:\\Users\\Work\\Desktop\\Projects\\ict3104-team05-2022\\venv\\Scripts\\python.exe -m pip install --upgrade pip' command.\n"
     ]
    }
   ],
   "source": [
    "!pip install ninja"
   ]
  },
  {
   "cell_type": "code",
   "execution_count": 23,
   "id": "680f76eb",
   "metadata": {},
   "outputs": [
    {
     "name": "stdout",
     "output_type": "stream",
     "text": [
      "Collecting cuda-python"
     ]
    },
    {
     "name": "stderr",
     "output_type": "stream",
     "text": [
      "WARNING: You are using pip version 21.3.1; however, version 22.2.2 is available.\n",
      "You should consider upgrading via the 'C:\\Users\\Work\\Desktop\\Projects\\ict3104-team05-2022\\venv\\Scripts\\python.exe -m pip install --upgrade pip' command.\n"
     ]
    },
    {
     "name": "stdout",
     "output_type": "stream",
     "text": [
      "\n",
      "  Downloading cuda_python-11.7.1-cp38-cp38-win_amd64.whl (6.8 MB)\n",
      "Collecting cython\n",
      "  Downloading Cython-0.29.32-py2.py3-none-any.whl (986 kB)\n",
      "Installing collected packages: cython, cuda-python\n",
      "Successfully installed cuda-python-11.7.1 cython-0.29.32\n"
     ]
    }
   ],
   "source": [
    "!pip install cuda-python"
   ]
  },
  {
   "cell_type": "code",
   "execution_count": 24,
   "id": "bb8801f2",
   "metadata": {},
   "outputs": [
    {
     "name": "stdout",
     "output_type": "stream",
     "text": [
      "running build\n",
      "running build_py\n",
      "creating build\n",
      "creating build\\lib.win-amd64-3.8\n",
      "creating build\\lib.win-amd64-3.8\\data\n",
      "copying data\\augmentations.py -> build\\lib.win-amd64-3.8\\data\n",
      "copying data\\ava.py -> build\\lib.win-amd64-3.8\\data\n",
      "copying data\\ava_cls.py -> build\\lib.win-amd64-3.8\\data\n",
      "copying data\\customize.py -> build\\lib.win-amd64-3.8\\data\n",
      "copying data\\data_utils.py -> build\\lib.win-amd64-3.8\\data\n",
      "copying data\\__init__.py -> build\\lib.win-amd64-3.8\\data\n",
      "creating build\\lib.win-amd64-3.8\\models\n",
      "copying models\\i3dpt.py -> build\\lib.win-amd64-3.8\\models\n",
      "copying models\\networks.py -> build\\lib.win-amd64-3.8\\models\n",
      "copying models\\two_branch.py -> build\\lib.win-amd64-3.8\\models\n",
      "copying models\\__init__.py -> build\\lib.win-amd64-3.8\\models\n",
      "creating build\\lib.win-amd64-3.8\\utils\n",
      "copying utils\\eval_utils.py -> build\\lib.win-amd64-3.8\\utils\n",
      "copying utils\\solver.py -> build\\lib.win-amd64-3.8\\utils\n",
      "copying utils\\tube_utils.py -> build\\lib.win-amd64-3.8\\utils\n",
      "copying utils\\utils.py -> build\\lib.win-amd64-3.8\\utils\n",
      "copying utils\\vis_utils.py -> build\\lib.win-amd64-3.8\\utils\n",
      "copying utils\\__init__.py -> build\\lib.win-amd64-3.8\\utils\n",
      "running build_ext\n",
      "---------------------------------------------------------------------------\n",
      "DistutilsPlatformError                    Traceback (most recent call last)\n",
      "File ~\\Desktop\\Projects\\ict3104-team05-2022\\venv\\lib\\site-packages\\setuptools\\_distutils\\core.py:163, in run_commands(dist)\n",
      "    162 try:\n",
      "--> 163     dist.run_commands()\n",
      "    164 except KeyboardInterrupt:\n",
      "\n",
      "File ~\\Desktop\\Projects\\ict3104-team05-2022\\venv\\lib\\site-packages\\setuptools\\_distutils\\dist.py:967, in Distribution.run_commands(self)\n",
      "    966 for cmd in self.commands:\n",
      "--> 967     self.run_command(cmd)\n",
      "\n",
      "File ~\\Desktop\\Projects\\ict3104-team05-2022\\venv\\lib\\site-packages\\setuptools\\_distutils\\dist.py:986, in Distribution.run_command(self, command)\n",
      "    985 cmd_obj.ensure_finalized()\n",
      "--> 986 cmd_obj.run()\n",
      "    987 self.have_run[command] = 1\n",
      "\n",
      "File ~\\Desktop\\Projects\\ict3104-team05-2022\\venv\\lib\\site-packages\\setuptools\\_distutils\\command\\build.py:135, in build.run(self)\n",
      "    134 for cmd_name in self.get_sub_commands():\n",
      "--> 135     self.run_command(cmd_name)\n",
      "\n",
      "File ~\\Desktop\\Projects\\ict3104-team05-2022\\venv\\lib\\site-packages\\setuptools\\_distutils\\cmd.py:313, in Command.run_command(self, command)\n",
      "    309 \"\"\"Run some other command: uses the 'run_command()' method of\n",
      "    310 Distribution, which creates and finalizes the command object if\n",
      "    311 necessary and then invokes its 'run()' method.\n",
      "    312 \"\"\"\n",
      "--> 313 self.distribution.run_command(command)\n",
      "\n",
      "File ~\\Desktop\\Projects\\ict3104-team05-2022\\venv\\lib\\site-packages\\setuptools\\_distutils\\dist.py:986, in Distribution.run_command(self, command)\n",
      "    985 cmd_obj.ensure_finalized()\n",
      "--> 986 cmd_obj.run()\n",
      "    987 self.have_run[command] = 1\n",
      "\n",
      "File ~\\Desktop\\Projects\\ict3104-team05-2022\\venv\\lib\\site-packages\\setuptools\\command\\build_ext.py:79, in build_ext.run(self)\n",
      "     78 old_inplace, self.inplace = self.inplace, 0\n",
      "---> 79 _build_ext.run(self)\n",
      "     80 self.inplace = old_inplace\n",
      "\n",
      "File ~\\Desktop\\Projects\\ict3104-team05-2022\\venv\\lib\\site-packages\\Cython\\Distutils\\old_build_ext.py:186, in old_build_ext.run(self)\n",
      "    184     optimization.disable_optimization()\n",
      "--> 186 _build_ext.build_ext.run(self)\n",
      "\n",
      "File ~\\Desktop\\Projects\\ict3104-team05-2022\\venv\\lib\\site-packages\\setuptools\\_distutils\\command\\build_ext.py:339, in build_ext.run(self)\n",
      "    338 # Now actually compile and link everything.\n",
      "--> 339 self.build_extensions()\n",
      "\n",
      "File ~\\Desktop\\Projects\\ict3104-team05-2022\\venv\\lib\\site-packages\\torch\\utils\\cpp_extension.py:735, in BuildExtension.build_extensions(self)\n",
      "    733         self.compiler._compile = unix_wrap_single_compile\n",
      "--> 735 build_ext.build_extensions(self)\n",
      "\n",
      "File ~\\Desktop\\Projects\\ict3104-team05-2022\\venv\\lib\\site-packages\\Cython\\Distutils\\old_build_ext.py:195, in old_build_ext.build_extensions(self)\n",
      "    194 # Call original build_extensions\n",
      "--> 195 _build_ext.build_ext.build_extensions(self)\n",
      "\n",
      "File ~\\Desktop\\Projects\\ict3104-team05-2022\\venv\\lib\\site-packages\\setuptools\\_distutils\\command\\build_ext.py:448, in build_ext.build_extensions(self)\n",
      "    447 else:\n",
      "--> 448     self._build_extensions_serial()\n",
      "\n",
      "File ~\\Desktop\\Projects\\ict3104-team05-2022\\venv\\lib\\site-packages\\setuptools\\_distutils\\command\\build_ext.py:473, in build_ext._build_extensions_serial(self)\n",
      "    472 with self._filter_build_errors(ext):\n",
      "--> 473     self.build_extension(ext)\n",
      "\n",
      "File ~\\Desktop\\Projects\\ict3104-team05-2022\\venv\\lib\\site-packages\\setuptools\\command\\build_ext.py:202, in build_ext.build_extension(self, ext)\n",
      "    201     self.compiler = self.shlib_compiler\n",
      "--> 202 _build_ext.build_extension(self, ext)\n",
      "    203 if ext._needs_stub:\n",
      "\n",
      "File ~\\Desktop\\Projects\\ict3104-team05-2022\\venv\\lib\\site-packages\\setuptools\\_distutils\\command\\build_ext.py:528, in build_ext.build_extension(self, ext)\n",
      "    526     macros.append((undef,))\n",
      "--> 528 objects = self.compiler.compile(sources,\n",
      "    529                                  output_dir=self.build_temp,\n",
      "    530                                  macros=macros,\n",
      "    531                                  include_dirs=ext.include_dirs,\n",
      "    532                                  debug=self.debug,\n",
      "    533                                  extra_postargs=extra_args,\n",
      "    534                                  depends=ext.depends)\n",
      "    536 # XXX outdated variable, kept here in case third-part code\n",
      "    537 # needs it.\n",
      "\n",
      "File ~\\Desktop\\Projects\\ict3104-team05-2022\\venv\\lib\\site-packages\\torch\\utils\\cpp_extension.py:651, in BuildExtension.build_extensions.<locals>.win_wrap_ninja_compile(sources, output_dir, macros, include_dirs, debug, extra_preargs, extra_postargs, depends)\n",
      "    650 if not self.compiler.initialized:\n",
      "--> 651     self.compiler.initialize()\n",
      "    652 output_dir = os.path.abspath(output_dir)\n",
      "\n",
      "File ~\\Desktop\\Projects\\ict3104-team05-2022\\venv\\lib\\site-packages\\setuptools\\_distutils\\_msvccompiler.py:224, in MSVCCompiler.initialize(self, plat_name)\n",
      "    222 plat_spec = PLAT_TO_VCVARS[plat_name]\n",
      "--> 224 vc_env = _get_vc_env(plat_spec)\n",
      "    225 if not vc_env:\n",
      "\n",
      "File ~\\Desktop\\Projects\\ict3104-team05-2022\\venv\\lib\\site-packages\\setuptools\\msvc.py:316, in msvc14_get_vc_env(plat_spec)\n",
      "    315 try:\n",
      "--> 316     return _msvc14_get_vc_env(plat_spec)\n",
      "    317 except distutils.errors.DistutilsPlatformError as exc:\n",
      "\n",
      "File ~\\Desktop\\Projects\\ict3104-team05-2022\\venv\\lib\\site-packages\\setuptools\\msvc.py:270, in _msvc14_get_vc_env(plat_spec)\n",
      "    269 if not vcvarsall:\n",
      "--> 270     raise distutils.errors.DistutilsPlatformError(\n",
      "    271         \"Unable to find vcvarsall.bat\"\n",
      "    272     )\n",
      "    274 try:\n",
      "\n",
      "DistutilsPlatformError: Microsoft Visual C++ 14.0 or greater is required. Get it with \"Microsoft C++ Build Tools\": https://visualstudio.microsoft.com/visual-cpp-build-tools/\n",
      "\n",
      "During handling of the above exception, another exception occurred:\n",
      "\n",
      "SystemExit                                Traceback (most recent call last)\n",
      "File ~\\Desktop\\Projects\\ict3104-team05-2022\\NVIDIA-STEP-MODEL\\STEP\\setup.py:61\n",
      "     48     ext_modules = [\n",
      "     49         extension(\n",
      "     50             \"external.maskrcnn_benchmark.roi_layers._C\",\n",
      "   (...)\n",
      "     55         )\n",
      "     56     ]\n",
      "     58     return ext_modules\n",
      "---> 61 setup(\n",
      "     62     name=\"STEP\",\n",
      "     63     description=\"STEP for video action detection\",\n",
      "     64     packages=find_packages(exclude=(\"configs\", \"tests\",)),\n",
      "     65     # install_requires=requirements,\n",
      "     66     ext_modules=get_extensions(),\n",
      "     67     cmdclass={\"build_ext\": torch.utils.cpp_extension.BuildExtension},\n",
      "     68 )\n",
      "\n",
      "File ~\\Desktop\\Projects\\ict3104-team05-2022\\venv\\lib\\site-packages\\setuptools\\__init__.py:155, in setup(**attrs)\n",
      "    153 logging.configure()\n",
      "    154 _install_setup_requires(attrs)\n",
      "--> 155 return distutils.core.setup(**attrs)\n",
      "\n",
      "File ~\\Desktop\\Projects\\ict3104-team05-2022\\venv\\lib\\site-packages\\setuptools\\_distutils\\core.py:148, in setup(**attrs)\n",
      "    146 # And finally, run all the commands found on the command line.\n",
      "    147 if ok:\n",
      "--> 148     return run_commands(dist)\n",
      "    150 return dist\n",
      "\n",
      "File ~\\Desktop\\Projects\\ict3104-team05-2022\\venv\\lib\\site-packages\\setuptools\\_distutils\\core.py:178, in run_commands(dist)\n",
      "    176         raise\n",
      "    177     else:\n",
      "--> 178         raise SystemExit(\"error: \" + str(msg))\n",
      "    180 return dist\n",
      "\n",
      "SystemExit: error: Microsoft Visual C++ 14.0 or greater is required. Get it with \"Microsoft C++ Build Tools\": https://visualstudio.microsoft.com/visual-cpp-build-tools/\n"
     ]
    },
    {
     "name": "stderr",
     "output_type": "stream",
     "text": [
      "C:\\Users\\Work\\Desktop\\Projects\\ict3104-team05-2022\\venv\\lib\\site-packages\\torch\\utils\\cpp_extension.py:316: UserWarning: Error checking compiler version for cl: [WinError 2] The system cannot find the file specified\n",
      "  warnings.warn(f'Error checking compiler version for {compiler}: {error}')\n"
     ]
    }
   ],
   "source": [
    "!ipython setup.py build develop"
   ]
  },
  {
   "cell_type": "code",
   "execution_count": 25,
   "id": "e176b4f7",
   "metadata": {},
   "outputs": [
    {
     "name": "stderr",
     "output_type": "stream",
     "text": [
      "Traceback (most recent call last):\n",
      "  File \"demo.py\", line 22, in <module>\n",
      "    from models import BaseNet, ROINet, TwoBranchNet, ContextNet\n",
      "  File \"C:\\Users\\Work\\Desktop\\Projects\\ict3104-team05-2022\\NVIDIA-STEP-MODEL\\STEP\\models\\__init__.py\", line 6, in <module>\n",
      "    from .networks import BaseNet, ROINet\n",
      "  File \"C:\\Users\\Work\\Desktop\\Projects\\ict3104-team05-2022\\NVIDIA-STEP-MODEL\\STEP\\models\\networks.py\", line 14, in <module>\n",
      "    from external.maskrcnn_benchmark.roi_layers import ROIAlign, ROIPool\n",
      "  File \"C:\\Users\\Work\\Desktop\\Projects\\ict3104-team05-2022\\NVIDIA-STEP-MODEL\\STEP\\external\\maskrcnn_benchmark\\roi_layers\\__init__.py\", line 29, in <module>\n",
      "    from .nms import nms\n",
      "  File \"C:\\Users\\Work\\Desktop\\Projects\\ict3104-team05-2022\\NVIDIA-STEP-MODEL\\STEP\\external\\maskrcnn_benchmark\\roi_layers\\nms.py\", line 28, in <module>\n",
      "    from . import _C\n",
      "ImportError: cannot import name '_C' from partially initialized module 'external.maskrcnn_benchmark.roi_layers' (most likely due to a circular import) (C:\\Users\\Work\\Desktop\\Projects\\ict3104-team05-2022\\NVIDIA-STEP-MODEL\\STEP\\external\\maskrcnn_benchmark\\roi_layers\\__init__.py)\n"
     ]
    }
   ],
   "source": [
    "!python demo.py"
   ]
  },
  {
   "cell_type": "code",
   "execution_count": 26,
   "id": "5cdf4465",
   "metadata": {
    "scrolled": true
   },
   "outputs": [
    {
     "data": {
      "image/jpeg": "[encoded data removed]",
      "text/plain": "<IPython.core.display.Image object>"
     },
     "execution_count": 26,
     "metadata": {},
     "output_type": "execute_result"
    }
   ],
   "source": [
    "from IPython.display import Image\n",
    "Image(filename='datasets/demo/frames/results/2/frame0000.jpg') "
   ]
  },
  {
   "cell_type": "code",
   "execution_count": 26,
   "id": "b18281ba",
   "metadata": {},
   "outputs": [],
   "source": []
  }
 ],
 "metadata": {
  "kernelspec": {
   "display_name": "Python 3",
   "language": "python",
   "name": "python3"
  },
  "language_info": {
   "codemirror_mode": {
    "name": "ipython",
    "version": 3
   },
   "file_extension": ".py",
   "mimetype": "text/x-python",
   "name": "python",
   "nbconvert_exporter": "python",
   "pygments_lexer": "ipython3",
   "version": "3.8.8"
  },
  "vscode": {
   "interpreter": {
    "hash": "6d41985e808d4de29e30cfccb1ac63130fa35729d6f17b6b48b8c479c2660857"
   }
  }
 },
 "nbformat": 4,
 "nbformat_minor": 5
}
