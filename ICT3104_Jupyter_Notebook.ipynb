{
 "cells": [
  {
   "cell_type": "markdown",
   "id": "54d5890e",
   "metadata": {},
   "source": [
    "# Setup"
   ]
  },
  {
   "cell_type": "code",
   "execution_count": null,
   "id": "c604876b",
   "metadata": {},
   "outputs": [],
   "source": [
    "# Run this locally. Binder dont need run.\n",
    "!conda remove -n ICT3104 --all -y"
   ]
  },
  {
   "cell_type": "code",
   "execution_count": null,
   "id": "0523a253",
   "metadata": {},
   "outputs": [],
   "source": [
    "# Run this locally. Binder dont need run.\n",
    "!conda env create -n ICT3104 --file environment.yml"
   ]
  },
  {
   "cell_type": "code",
   "execution_count": null,
   "id": "bc9119cc",
   "metadata": {},
   "outputs": [],
   "source": [
    "# Run this locally. Binder dont need run.\n",
    "!conda activate ICT3104"
   ]
  },
  {
   "cell_type": "code",
   "execution_count": null,
   "id": "8ef29af0",
   "metadata": {},
   "outputs": [],
   "source": [
    "# Ensure environment is working\n",
    "import torch\n",
    "import timm\n",
    "import sklearn\n",
    "import numpy"
   ]
  },
  {
   "cell_type": "markdown",
   "id": "0cc319a9",
   "metadata": {},
   "source": [
    "# Example Use"
   ]
  },
  {
   "cell_type": "code",
   "execution_count": null,
   "id": "76bf7e61",
   "metadata": {},
   "outputs": [],
   "source": []
  },
  {
   "cell_type": "markdown",
   "id": "49ab2033",
   "metadata": {},
   "source": [
    "# Apply Module"
   ]
  },
  {
   "cell_type": "code",
   "execution_count": null,
   "id": "ad285d1a",
   "metadata": {},
   "outputs": [],
   "source": []
  }
 ],
 "metadata": {
  "kernelspec": {
   "display_name": "Python 3 (ipykernel)",
   "language": "python",
   "name": "python3"
  },
  "language_info": {
   "codemirror_mode": {
    "name": "ipython",
    "version": 3
   },
   "file_extension": ".py",
   "mimetype": "text/x-python",
   "name": "python",
   "nbconvert_exporter": "python",
   "pygments_lexer": "ipython3",
   "version": "3.8.13"
  },
  "vscode": {
   "interpreter": {
    "hash": "ad2bdc8ecc057115af97d19610ffacc2b4e99fae6737bb82f5d7fb13d2f2c186"
   }
  }
 },
 "nbformat": 4,
 "nbformat_minor": 5
}
