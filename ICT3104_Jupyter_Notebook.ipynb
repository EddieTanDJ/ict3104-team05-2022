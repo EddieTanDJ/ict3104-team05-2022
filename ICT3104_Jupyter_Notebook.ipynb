{
 "cells": [
  {
   "cell_type": "markdown",
   "id": "54b3923a",
   "metadata": {
    "pycharm": {
     "name": "#%% md\n"
    }
   },
   "source": [
    "# Test the environment"
   ]
  },
  {
   "cell_type": "code",
   "execution_count": null,
   "id": "b304c1cf",
   "metadata": {
    "pycharm": {
     "name": "#%%\n"
    }
   },
   "outputs": [],
   "source": [
    "!cd ./pipeline && python test.py"
   ]
  },
  {
   "cell_type": "markdown",
   "id": "49ab2033",
   "metadata": {
    "pycharm": {
     "name": "#%% md\n"
    }
   },
   "source": [
    "# Apply Module"
   ]
  },
  {
   "cell_type": "code",
   "execution_count": null,
   "id": "2875825f",
   "metadata": {
    "pycharm": {
     "name": "#%%\n"
    }
   },
   "outputs": [],
   "source": []
  }
 ],
 "metadata": {
  "kernelspec": {
   "display_name": "Python 3.8.13 ('ict3104')",
   "language": "python",
   "name": "python3"
  },
  "language_info": {
   "codemirror_mode": {
    "name": "ipython",
    "version": 3
   },
   "file_extension": ".py",
   "mimetype": "text/x-python",
   "name": "python",
   "nbconvert_exporter": "python",
   "pygments_lexer": "ipython3",
   "version": "3.8.12"
  },
  "vscode": {
   "interpreter": {
    "hash": "21443173980de8f8bd52f0a8d21aa24ff048531cbf1e79ef9f1f2c09c5456057"
   }
  }
 },
 "nbformat": 4,
 "nbformat_minor": 5
}
